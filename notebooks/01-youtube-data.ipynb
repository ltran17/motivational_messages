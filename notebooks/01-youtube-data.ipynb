{
 "cells": [
  {
   "cell_type": "markdown",
   "id": "2bf60f4b-d07f-4950-9e68-6ca5b63f233b",
   "metadata": {},
   "source": [
    "# Step 1: Get the transcripts for Sydney's January 2023 videos\n",
    "\n",
    "0. Set up access to YouTube's Data API\n",
    "1. Create a dataframe with channel metadata\n",
    "2. Augment dataframe with video metadata\n",
    "3. Acquire transcripts for each video\n",
    "4. Isolate the motivational talk from each transcript\n",
    "5. Save dataframe to a file (if you want to get fancy, you could create a database)\n",
    "\n",
    "### 0. Set up access to YouTube's Data API\n",
    "First things first: follow the steps on with [YouTube's Data API Overview](https://developers.google.com/youtube/v3/getting-started) to obtain an API key. You will need a Google Developer account -- I balked at signing on for this but decided it was fine for me. Read up on it and make the decision that works for you.\n",
    "\n",
    "Once you get your API key, put it somewhere safe! **Do not hard code your key into your code.** You can get fancy and use a key manager, but if you are relatively new to coding, put it in a file somewhere that will NOT be pushed to git. My two step method is maybe not the best way -- storing keys in a config folder in my project and adding that folder name to .gitignore -- but it works. "
   ]
  },
  {
   "cell_type": "code",
   "execution_count": 2,
   "id": "851ddddc-9d6b-4ca6-8a64-f95d026409ec",
   "metadata": {},
   "outputs": [],
   "source": [
    "with open('../config/youtube_api') as file:\n",
    "    DEVELOPER_KEY = file.readline()"
   ]
  },
  {
   "cell_type": "markdown",
   "id": "ead213c1-7490-4fd3-81a9-ec376a0e715d",
   "metadata": {},
   "source": [
    "Now my key is safely loaded into memory, but no one reading my code can see the actual value. Another way to do this would be with an environment variable. If you are dealing with keys at work, please follow the best practices of your workplace."
   ]
  },
  {
   "cell_type": "markdown",
   "id": "0603fa74-288b-4309-8576-567b24d7ab1e",
   "metadata": {},
   "source": [
    "**If you have not already followed the steps on [the Python Quickstart page](https://developers.google.com/youtube/v3/quickstart/python), take a break and go do that first.**\n",
    "\n",
    "This tutorial will still be here! Come back when you are ready. \n",
    "\n",
    "These next two cells get you set up to make requests with the YouTube API."
   ]
  },
  {
   "cell_type": "code",
   "execution_count": 4,
   "id": "c98d5d3c-5c52-4959-9645-6f895cc94b3e",
   "metadata": {},
   "outputs": [],
   "source": [
    "# API client library\n",
    "import googleapiclient.discovery\n",
    "# API information\n",
    "api_service_name = \"youtube\"\n",
    "api_version = \"v3\""
   ]
  },
  {
   "cell_type": "code",
   "execution_count": 5,
   "id": "1d758720-3f77-4e4a-94b7-4deb5abfa825",
   "metadata": {},
   "outputs": [],
   "source": [
    "# API client\n",
    "youtube = googleapiclient.discovery.build(\n",
    "    api_service_name, api_version, developerKey = DEVELOPER_KEY)"
   ]
  },
  {
   "cell_type": "markdown",
   "id": "a0a95de4-b143-410f-8a5e-c981721c57b4",
   "metadata": {},
   "source": [
    "The next cell specifies the YouTube channel id. Perhaps this will be obvious to others, but it took me a while to figure out that this value is NOT the name of the YouTube channel, but the hash that goes along with it. It took me a while to track it down.\n",
    "\n",
    "If you want to query some other channel's data, consider this an invitation to go figure out the channel id! "
   ]
  },
  {
   "cell_type": "code",
   "execution_count": 6,
   "id": "e865b2fd-e631-4aa0-b865-83d427da4d90",
   "metadata": {},
   "outputs": [],
   "source": [
    "CHANNEL_ID = 'UCVQJZE_on7It_pEv6tn-jdA' # Sydney's channel id"
   ]
  },
  {
   "cell_type": "markdown",
   "id": "9ba4ff70-c983-4fe6-9171-d2b6e825ed6e",
   "metadata": {},
   "source": [
    "I wanted to see what a request to the youtube client returned, so I formulated a request to list the channel's first video of the year.\n",
    "\n",
    "Please note the format of the datetime value is [International Standard ISO 8601](https://en.wikipedia.org/wiki/ISO_8601). You will certainly encounter other formats in your data science career, but I would be surprised if this is the last time you see this one."
   ]
  },
  {
   "cell_type": "code",
   "execution_count": 15,
   "id": "a6238067-4a2f-4987-8e29-ea91c86dd22b",
   "metadata": {},
   "outputs": [],
   "source": [
    "request = youtube.search().list(\n",
    "    part=\"snippet\",\n",
    "    channelId=\"UCVQJZE_on7It_pEv6tn-jdA\",\n",
    "    maxResults=31,\n",
    "    publishedAfter=\"2023-01-02T00:00:00Z\",\n",
    "    publishedBefore=\"2023-01-03T00:00:00Z\",\n",
    "    type=\"video\"\n",
    ")\n",
    "response = request.execute()"
   ]
  },
  {
   "cell_type": "markdown",
   "id": "e03ec285-e123-4192-be9a-19134e2f9718",
   "metadata": {},
   "source": [
    "Let's see what it looks like."
   ]
  },
  {
   "cell_type": "code",
   "execution_count": 16,
   "id": "b21bd9a1-06d3-4046-a340-20e10935fbbe",
   "metadata": {},
   "outputs": [
    {
     "data": {
      "text/plain": [
       "{'kind': 'youtube#searchListResponse',\n",
       " 'etag': 'vj5RWVnb9NxGiBPbM23M08JWY8s',\n",
       " 'regionCode': 'US',\n",
       " 'pageInfo': {'totalResults': 3, 'resultsPerPage': 1},\n",
       " 'items': [{'kind': 'youtube#searchResult',\n",
       "   'etag': 'pC-CzKtb-Sq3vGfXqccypRHXUjo',\n",
       "   'id': {'kind': 'youtube#video', 'videoId': 'qLKflJjWDi4'},\n",
       "   'snippet': {'publishedAt': '2023-01-02T10:00:18Z',\n",
       "    'channelId': 'UCVQJZE_on7It_pEv6tn-jdA',\n",
       "    'title': '30 Minute Full Body Strong &amp; Fit Workout | EFFORT - Day 1',\n",
       "    'description': \"It's time to put in the EFFORT! DAY 1 of our PROCESS program kicks today off with a full body quick and sweaty workout to get us ...\",\n",
       "    'thumbnails': {'default': {'url': 'https://i.ytimg.com/vi/qLKflJjWDi4/default.jpg',\n",
       "      'width': 120,\n",
       "      'height': 90},\n",
       "     'medium': {'url': 'https://i.ytimg.com/vi/qLKflJjWDi4/mqdefault.jpg',\n",
       "      'width': 320,\n",
       "      'height': 180},\n",
       "     'high': {'url': 'https://i.ytimg.com/vi/qLKflJjWDi4/hqdefault.jpg',\n",
       "      'width': 480,\n",
       "      'height': 360}},\n",
       "    'channelTitle': 'Sydney Cummings Houdyshell',\n",
       "    'liveBroadcastContent': 'none',\n",
       "    'publishTime': '2023-01-02T10:00:18Z'}}]}"
      ]
     },
     "execution_count": 16,
     "metadata": {},
     "output_type": "execute_result"
    }
   ],
   "source": [
    "response"
   ]
  },
  {
   "cell_type": "markdown",
   "id": "533dac0d-eb96-4c7a-b443-9229f3fcb236",
   "metadata": {},
   "source": [
    "The response is a dictionary that includes lots of metadata about the video. Let me see how to extract some of the information. For example, start with the title. "
   ]
  },
  {
   "cell_type": "code",
   "execution_count": 17,
   "id": "89bd9bbc-e69a-4e12-967b-d78b48cf8d64",
   "metadata": {},
   "outputs": [
    {
     "data": {
      "text/plain": [
       "'30 Minute Full Body Strong &amp; Fit Workout | EFFORT - Day 1'"
      ]
     },
     "execution_count": 17,
     "metadata": {},
     "output_type": "execute_result"
    }
   ],
   "source": [
    "response['items'][0]['snippet']['title']"
   ]
  },
  {
   "cell_type": "markdown",
   "id": "e1b39511-5cb6-4773-aec1-2940003eb982",
   "metadata": {},
   "source": [
    "And the description:"
   ]
  },
  {
   "cell_type": "code",
   "execution_count": 18,
   "id": "332a2fc9-442e-435e-8b2a-55a62d7e3992",
   "metadata": {},
   "outputs": [
    {
     "data": {
      "text/plain": [
       "\"It's time to put in the EFFORT! DAY 1 of our PROCESS program kicks today off with a full body quick and sweaty workout to get us ...\""
      ]
     },
     "execution_count": 18,
     "metadata": {},
     "output_type": "execute_result"
    }
   ],
   "source": [
    "response['items'][0]['snippet']['description']"
   ]
  },
  {
   "cell_type": "markdown",
   "id": "04d60d5d-75f9-4f58-a57c-71f592683ef3",
   "metadata": {},
   "source": [
    "### 1. Create a dataframe with channel metadata\n",
    "\n",
    "Did someone say dataframe? My package of choice is Pandas. You might prefer something else. That's fine! Do what works for you."
   ]
  },
  {
   "cell_type": "code",
   "execution_count": 36,
   "id": "e545060b-c3f9-4221-ade3-498775fcfe07",
   "metadata": {},
   "outputs": [],
   "source": [
    "import pandas as pd"
   ]
  },
  {
   "cell_type": "markdown",
   "id": "ae37a718-84b4-4efd-b859-287360334653",
   "metadata": {},
   "source": [
    "To minimize the number of calls to YouTube, edit the dates in the request."
   ]
  },
  {
   "cell_type": "code",
   "execution_count": 20,
   "id": "0179673f-7943-421d-abdc-5d09e432ad72",
   "metadata": {},
   "outputs": [],
   "source": [
    "request = youtube.search().list(\n",
    "    part=\"snippet\",\n",
    "    channelId=\"UCVQJZE_on7It_pEv6tn-jdA\",\n",
    "    maxResults=31,\n",
    "    publishedAfter=\"2023-01-01T00:00:00Z\",\n",
    "    publishedBefore=\"2023-02-01T00:00:00Z\",\n",
    "    type=\"video\"\n",
    ")\n",
    "response = request.execute()"
   ]
  },
  {
   "cell_type": "markdown",
   "id": "07eb4308-8c0f-4175-a562-a493cc5421b7",
   "metadata": {},
   "source": [
    "Remember that the response has lots of metadata! If you are interested, you can dive into the other keys in the response dictionary, but for this project, I only care about `items`."
   ]
  },
  {
   "cell_type": "code",
   "execution_count": 21,
   "id": "e839ac13-bb4f-4925-9353-242623b9db5e",
   "metadata": {},
   "outputs": [
    {
     "data": {
      "text/plain": [
       "dict_keys(['kind', 'etag', 'regionCode', 'pageInfo', 'items'])"
      ]
     },
     "execution_count": 21,
     "metadata": {},
     "output_type": "execute_result"
    }
   ],
   "source": [
    "response.keys()"
   ]
  },
  {
   "cell_type": "markdown",
   "id": "4e1ffe49-444c-4e73-a0b9-aa5f13144838",
   "metadata": {},
   "source": [
    "I'll check that the response has the number of items I expect: Sydney published 20 videos in January 2023."
   ]
  },
  {
   "cell_type": "code",
   "execution_count": 22,
   "id": "48e58639-ef5b-4e88-9b49-18c9fde326fb",
   "metadata": {},
   "outputs": [
    {
     "data": {
      "text/plain": [
       "20"
      ]
     },
     "execution_count": 22,
     "metadata": {},
     "output_type": "execute_result"
    }
   ],
   "source": [
    "len(response['items'])"
   ]
  },
  {
   "cell_type": "markdown",
   "id": "0d34c520-fbd3-4be2-85b6-0ade2dfcf696",
   "metadata": {},
   "source": [
    "Great! Now I am ready to create the dataframe of metadata for the month. I'll start with the video ids, their titles, their publication dates, and descriptions.\n",
    "\n",
    "You'll notice that I do a couple of checks after extracting the data: what is the length of the list and what the content looks like. "
   ]
  },
  {
   "cell_type": "code",
   "execution_count": 23,
   "id": "799bfefa-c7d5-47f3-8ab2-a946fbd90c4b",
   "metadata": {},
   "outputs": [],
   "source": [
    "ids = []\n",
    "for item in response['items']:\n",
    "    id = item['id']['videoId']\n",
    "    ids.append(id)"
   ]
  },
  {
   "cell_type": "code",
   "execution_count": 24,
   "id": "82f2ebc3-7109-4fcf-a9df-af2455d9c50f",
   "metadata": {},
   "outputs": [
    {
     "data": {
      "text/plain": [
       "20"
      ]
     },
     "execution_count": 24,
     "metadata": {},
     "output_type": "execute_result"
    }
   ],
   "source": [
    "len(ids)"
   ]
  },
  {
   "cell_type": "code",
   "execution_count": 25,
   "id": "10a3c66f-44d2-4bc7-85ab-5e2f1cedab49",
   "metadata": {},
   "outputs": [
    {
     "data": {
      "text/plain": [
       "'A5kHPgAi3I0'"
      ]
     },
     "execution_count": 25,
     "metadata": {},
     "output_type": "execute_result"
    }
   ],
   "source": [
    "ids[0]"
   ]
  },
  {
   "cell_type": "code",
   "execution_count": 26,
   "id": "ed9ea0ed-d283-4284-9ee1-715ba95ee3cb",
   "metadata": {},
   "outputs": [],
   "source": [
    "titles = []\n",
    "for item in response['items']:\n",
    "    title = item['snippet']['title']\n",
    "    titles.append(title)"
   ]
  },
  {
   "cell_type": "code",
   "execution_count": 27,
   "id": "38694109-d918-493a-895a-167da1cb47db",
   "metadata": {},
   "outputs": [
    {
     "data": {
      "text/plain": [
       "20"
      ]
     },
     "execution_count": 27,
     "metadata": {},
     "output_type": "execute_result"
    }
   ],
   "source": [
    "len(titles)"
   ]
  },
  {
   "cell_type": "code",
   "execution_count": 28,
   "id": "0bb4cb38-3292-4b25-a008-44450b80d13e",
   "metadata": {},
   "outputs": [
    {
     "data": {
      "text/plain": [
       "'30 Minute Lean Legs &amp; Cardio Workout | EFFORT - DAY 3'"
      ]
     },
     "execution_count": 28,
     "metadata": {},
     "output_type": "execute_result"
    }
   ],
   "source": [
    "titles[0]"
   ]
  },
  {
   "cell_type": "code",
   "execution_count": 29,
   "id": "4801179b-4b1a-4588-91b1-e1adffe37224",
   "metadata": {},
   "outputs": [],
   "source": [
    "times = []\n",
    "for item in response['items']:\n",
    "    time = item['snippet']['publishedAt']\n",
    "    times.append(time)"
   ]
  },
  {
   "cell_type": "code",
   "execution_count": 30,
   "id": "b76d920e-e562-4d45-a282-e7a476105907",
   "metadata": {},
   "outputs": [
    {
     "data": {
      "text/plain": [
       "20"
      ]
     },
     "execution_count": 30,
     "metadata": {},
     "output_type": "execute_result"
    }
   ],
   "source": [
    "len(times)"
   ]
  },
  {
   "cell_type": "code",
   "execution_count": 31,
   "id": "0aa9eb5e-21bc-4cc4-93e5-7b0b72dcb051",
   "metadata": {},
   "outputs": [
    {
     "data": {
      "text/plain": [
       "'2023-01-04T10:00:04Z'"
      ]
     },
     "execution_count": 31,
     "metadata": {},
     "output_type": "execute_result"
    }
   ],
   "source": [
    "times[0]"
   ]
  },
  {
   "cell_type": "markdown",
   "id": "3eaea7ed-097d-4d9a-8afe-d5f33815090e",
   "metadata": {},
   "source": [
    "You'll notice that this is getting a little repetitive and you might be thinking I should write a function to get this done. If I were putting this into production somewhere, I would agree with you."
   ]
  },
  {
   "cell_type": "code",
   "execution_count": 32,
   "id": "e7de15c3-9165-4390-a63d-1e5787f70cfa",
   "metadata": {},
   "outputs": [],
   "source": [
    "descs = []\n",
    "for item in response['items']:\n",
    "    desc = item['snippet']['description']\n",
    "    descs.append(desc)"
   ]
  },
  {
   "cell_type": "code",
   "execution_count": 33,
   "id": "202bc7fd-6393-4240-a696-3255e09b4262",
   "metadata": {},
   "outputs": [
    {
     "data": {
      "text/plain": [
       "20"
      ]
     },
     "execution_count": 33,
     "metadata": {},
     "output_type": "execute_result"
    }
   ],
   "source": [
    "len(descs)"
   ]
  },
  {
   "cell_type": "code",
   "execution_count": 34,
   "id": "0d506425-8d72-4642-b6ee-4d41ecb82d9e",
   "metadata": {},
   "outputs": [
    {
     "data": {
      "text/plain": [
       "\"Oh my Quad! It's DAY 3 of our PROCESS program and this workout is going to push you by getting your heart rate up and working ...\""
      ]
     },
     "execution_count": 34,
     "metadata": {},
     "output_type": "execute_result"
    }
   ],
   "source": [
    "descs[0]"
   ]
  },
  {
   "cell_type": "markdown",
   "id": "a81fc997-17aa-4a70-879a-b986d88491c5",
   "metadata": {},
   "source": [
    "We can now create the dataframe of metadata about Sydney's videos for the month of January."
   ]
  },
  {
   "cell_type": "code",
   "execution_count": 37,
   "id": "e8c45dd1-15fd-44b8-8de7-c21c4fd62cec",
   "metadata": {},
   "outputs": [],
   "source": [
    "data = pd.DataFrame({'vid':ids,'title':titles,'published':times,\n",
    "             'description':descs})"
   ]
  },
  {
   "cell_type": "code",
   "execution_count": 38,
   "id": "0a8bac38-9467-4878-b709-33c633b4d7f9",
   "metadata": {},
   "outputs": [
    {
     "data": {
      "text/html": [
       "<div>\n",
       "<style scoped>\n",
       "    .dataframe tbody tr th:only-of-type {\n",
       "        vertical-align: middle;\n",
       "    }\n",
       "\n",
       "    .dataframe tbody tr th {\n",
       "        vertical-align: top;\n",
       "    }\n",
       "\n",
       "    .dataframe thead th {\n",
       "        text-align: right;\n",
       "    }\n",
       "</style>\n",
       "<table border=\"1\" class=\"dataframe\">\n",
       "  <thead>\n",
       "    <tr style=\"text-align: right;\">\n",
       "      <th></th>\n",
       "      <th>vid</th>\n",
       "      <th>title</th>\n",
       "      <th>published</th>\n",
       "      <th>description</th>\n",
       "    </tr>\n",
       "  </thead>\n",
       "  <tbody>\n",
       "    <tr>\n",
       "      <th>0</th>\n",
       "      <td>A5kHPgAi3I0</td>\n",
       "      <td>30 Minute Lean Legs &amp;amp; Cardio Workout | EFF...</td>\n",
       "      <td>2023-01-04T10:00:04Z</td>\n",
       "      <td>Oh my Quad! It's DAY 3 of our PROCESS program ...</td>\n",
       "    </tr>\n",
       "    <tr>\n",
       "      <th>1</th>\n",
       "      <td>DhnmowHRYjk</td>\n",
       "      <td>40 Minute Legs &amp;amp; HIIT Cardio Sweat Workout...</td>\n",
       "      <td>2023-01-18T10:00:12Z</td>\n",
       "      <td>Let's work today everyone! It's DAY 13 of our ...</td>\n",
       "    </tr>\n",
       "    <tr>\n",
       "      <th>2</th>\n",
       "      <td>WbkHfqIuhcE</td>\n",
       "      <td>30 Minute Lower Body &amp;amp; Jump Rope Bootcamp ...</td>\n",
       "      <td>2023-01-14T10:00:20Z</td>\n",
       "      <td>Let's work today everyone! It's DAY 10 of our ...</td>\n",
       "    </tr>\n",
       "    <tr>\n",
       "      <th>3</th>\n",
       "      <td>kU8M0Sc_WTQ</td>\n",
       "      <td>40 Minute Legs &amp;amp; Abs Sculpt Workout | EFFO...</td>\n",
       "      <td>2023-01-25T10:00:32Z</td>\n",
       "      <td>Let's work today everyone! It's DAY 18 of our ...</td>\n",
       "    </tr>\n",
       "    <tr>\n",
       "      <th>4</th>\n",
       "      <td>lijTEQmIo4o</td>\n",
       "      <td>45 Minute Greatest Glutes &amp;amp; Cardio Workout...</td>\n",
       "      <td>2023-01-28T10:00:27Z</td>\n",
       "      <td>It's the final workout of EFFORT in January 20...</td>\n",
       "    </tr>\n",
       "  </tbody>\n",
       "</table>\n",
       "</div>"
      ],
      "text/plain": [
       "           vid                                              title  \\\n",
       "0  A5kHPgAi3I0  30 Minute Lean Legs &amp; Cardio Workout | EFF...   \n",
       "1  DhnmowHRYjk  40 Minute Legs &amp; HIIT Cardio Sweat Workout...   \n",
       "2  WbkHfqIuhcE  30 Minute Lower Body &amp; Jump Rope Bootcamp ...   \n",
       "3  kU8M0Sc_WTQ  40 Minute Legs &amp; Abs Sculpt Workout | EFFO...   \n",
       "4  lijTEQmIo4o  45 Minute Greatest Glutes &amp; Cardio Workout...   \n",
       "\n",
       "              published                                        description  \n",
       "0  2023-01-04T10:00:04Z  Oh my Quad! It's DAY 3 of our PROCESS program ...  \n",
       "1  2023-01-18T10:00:12Z  Let's work today everyone! It's DAY 13 of our ...  \n",
       "2  2023-01-14T10:00:20Z  Let's work today everyone! It's DAY 10 of our ...  \n",
       "3  2023-01-25T10:00:32Z  Let's work today everyone! It's DAY 18 of our ...  \n",
       "4  2023-01-28T10:00:27Z  It's the final workout of EFFORT in January 20...  "
      ]
     },
     "execution_count": 38,
     "metadata": {},
     "output_type": "execute_result"
    }
   ],
   "source": [
    "data.head()"
   ]
  },
  {
   "cell_type": "markdown",
   "id": "f29a946d-ad49-4d25-aadf-cbf21126abd5",
   "metadata": {},
   "source": [
    "Looks good! I notice, however, that the `published` values are not in chronological order. Just something to keep in mind in the future."
   ]
  },
  {
   "cell_type": "code",
   "execution_count": null,
   "id": "afec3d1f-cc0b-47f3-af62-8e9a03e6275a",
   "metadata": {},
   "outputs": [],
   "source": []
  }
 ],
 "metadata": {
  "kernelspec": {
   "display_name": "Python 3 (ipykernel)",
   "language": "python",
   "name": "python3"
  },
  "language_info": {
   "codemirror_mode": {
    "name": "ipython",
    "version": 3
   },
   "file_extension": ".py",
   "mimetype": "text/x-python",
   "name": "python",
   "nbconvert_exporter": "python",
   "pygments_lexer": "ipython3",
   "version": "3.10.8"
  }
 },
 "nbformat": 4,
 "nbformat_minor": 5
}
