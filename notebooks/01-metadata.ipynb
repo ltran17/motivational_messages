{
 "cells": [
  {
   "cell_type": "markdown",
   "id": "2bf60f4b-d07f-4950-9e68-6ca5b63f233b",
   "metadata": {},
   "source": [
    "# Step 1: Get metadata for Sydney's January 2023 videos\n",
    "\n",
    "0. Set up access to YouTube's Data API\n",
    "1. Create a dataframe with channel metadata\n",
    "2. Augment dataframe with video metadata\n",
    "3. Acquire transcripts for each video\n",
    "\n",
    "### 0. Set up access to YouTube's Data API\n",
    "First things first: follow the steps on with [YouTube's Data API Overview](https://developers.google.com/youtube/v3/getting-started) to obtain an API key. You will need a Google Developer account -- I balked at signing on for this but eventually decided to go with it. Read up on it and make the decision that works for you.\n",
    "\n",
    "Once you get your API key, put it somewhere safe! **Do not hard code your key into your code.** You can get fancy and use a key manager, but if you are relatively new to coding, put it in a file somewhere that will NOT be pushed to git. My two step method is maybe not the best way -- storing keys in a config folder in my project and adding that folder name to .gitignore -- but it works. "
   ]
  },
  {
   "cell_type": "code",
   "execution_count": 1,
   "id": "851ddddc-9d6b-4ca6-8a64-f95d026409ec",
   "metadata": {},
   "outputs": [],
   "source": [
    "with open('../config/youtube_api') as file:\n",
    "    DEVELOPER_KEY = file.readline()"
   ]
  },
  {
   "cell_type": "markdown",
   "id": "ead213c1-7490-4fd3-81a9-ec376a0e715d",
   "metadata": {},
   "source": [
    "Now my key is safely loaded into memory, but no one reading my code can see the actual value. Another way to do this would be with an environment variable. If you are dealing with keys at work, please follow the best practices of your workplace."
   ]
  },
  {
   "cell_type": "markdown",
   "id": "0603fa74-288b-4309-8576-567b24d7ab1e",
   "metadata": {},
   "source": [
    "**If you have not already followed the steps on [the Python Quickstart page](https://developers.google.com/youtube/v3/quickstart/python), take a break and go do that first.** This tutorial will still be here! Come back when you are ready. \n",
    "\n",
    "These next two cells get you set up to make requests with the YouTube API."
   ]
  },
  {
   "cell_type": "code",
   "execution_count": 2,
   "id": "c98d5d3c-5c52-4959-9645-6f895cc94b3e",
   "metadata": {},
   "outputs": [],
   "source": [
    "# API client library\n",
    "import googleapiclient.discovery\n",
    "# API information\n",
    "api_service_name = \"youtube\"\n",
    "api_version = \"v3\""
   ]
  },
  {
   "cell_type": "code",
   "execution_count": 3,
   "id": "1d758720-3f77-4e4a-94b7-4deb5abfa825",
   "metadata": {},
   "outputs": [],
   "source": [
    "# API client\n",
    "youtube = googleapiclient.discovery.build(\n",
    "    api_service_name, api_version, developerKey = DEVELOPER_KEY)"
   ]
  },
  {
   "cell_type": "markdown",
   "id": "a0a95de4-b143-410f-8a5e-c981721c57b4",
   "metadata": {},
   "source": [
    "The next cell specifies the YouTube channel id. Perhaps this will be obvious to others, but it took me a while to figure out that this value is NOT the name of the YouTube channel, but the hash that goes along with it. It took me a while to track it down.\n",
    "\n",
    "If you want to query some other channel's data, consider this an invitation to go figure out the channel id! "
   ]
  },
  {
   "cell_type": "code",
   "execution_count": 4,
   "id": "e865b2fd-e631-4aa0-b865-83d427da4d90",
   "metadata": {},
   "outputs": [],
   "source": [
    "CHANNEL_ID = 'UCVQJZE_on7It_pEv6tn-jdA' # Sydney's channel id"
   ]
  },
  {
   "cell_type": "markdown",
   "id": "9ba4ff70-c983-4fe6-9171-d2b6e825ed6e",
   "metadata": {},
   "source": [
    "I wanted to see what a request to the youtube client returned, so I formulated a request to list the channel's first video of the year.\n",
    "\n",
    "Please note the format of the datetime value is [International Standard ISO 8601](https://en.wikipedia.org/wiki/ISO_8601). You will certainly encounter other formats in your data science career, but I would be surprised if this is the last time you see this one."
   ]
  },
  {
   "cell_type": "code",
   "execution_count": 5,
   "id": "a6238067-4a2f-4987-8e29-ea91c86dd22b",
   "metadata": {},
   "outputs": [],
   "source": [
    "request = youtube.search().list(\n",
    "    part=\"snippet\",\n",
    "    channelId=\"UCVQJZE_on7It_pEv6tn-jdA\",\n",
    "    maxResults=31,\n",
    "    publishedAfter=\"2023-01-02T00:00:00Z\",\n",
    "    publishedBefore=\"2023-01-03T00:00:00Z\",\n",
    "    type=\"video\"\n",
    ")\n",
    "response = request.execute()"
   ]
  },
  {
   "cell_type": "markdown",
   "id": "e03ec285-e123-4192-be9a-19134e2f9718",
   "metadata": {},
   "source": [
    "Let's see what it looks like."
   ]
  },
  {
   "cell_type": "code",
   "execution_count": 6,
   "id": "b21bd9a1-06d3-4046-a340-20e10935fbbe",
   "metadata": {},
   "outputs": [
    {
     "data": {
      "text/plain": [
       "{'kind': 'youtube#searchListResponse',\n",
       " 'etag': 'vj5RWVnb9NxGiBPbM23M08JWY8s',\n",
       " 'regionCode': 'US',\n",
       " 'pageInfo': {'totalResults': 3, 'resultsPerPage': 1},\n",
       " 'items': [{'kind': 'youtube#searchResult',\n",
       "   'etag': 'pC-CzKtb-Sq3vGfXqccypRHXUjo',\n",
       "   'id': {'kind': 'youtube#video', 'videoId': 'qLKflJjWDi4'},\n",
       "   'snippet': {'publishedAt': '2023-01-02T10:00:18Z',\n",
       "    'channelId': 'UCVQJZE_on7It_pEv6tn-jdA',\n",
       "    'title': '30 Minute Full Body Strong &amp; Fit Workout | EFFORT - Day 1',\n",
       "    'description': \"It's time to put in the EFFORT! DAY 1 of our PROCESS program kicks today off with a full body quick and sweaty workout to get us ...\",\n",
       "    'thumbnails': {'default': {'url': 'https://i.ytimg.com/vi/qLKflJjWDi4/default.jpg',\n",
       "      'width': 120,\n",
       "      'height': 90},\n",
       "     'medium': {'url': 'https://i.ytimg.com/vi/qLKflJjWDi4/mqdefault.jpg',\n",
       "      'width': 320,\n",
       "      'height': 180},\n",
       "     'high': {'url': 'https://i.ytimg.com/vi/qLKflJjWDi4/hqdefault.jpg',\n",
       "      'width': 480,\n",
       "      'height': 360}},\n",
       "    'channelTitle': 'Sydney Cummings Houdyshell',\n",
       "    'liveBroadcastContent': 'none',\n",
       "    'publishTime': '2023-01-02T10:00:18Z'}}]}"
      ]
     },
     "execution_count": 6,
     "metadata": {},
     "output_type": "execute_result"
    }
   ],
   "source": [
    "response"
   ]
  },
  {
   "cell_type": "markdown",
   "id": "533dac0d-eb96-4c7a-b443-9229f3fcb236",
   "metadata": {},
   "source": [
    "The response is a dictionary that includes lots of metadata about the video. Let me see how to extract some of the information. For example, start with the title. "
   ]
  },
  {
   "cell_type": "code",
   "execution_count": 7,
   "id": "89bd9bbc-e69a-4e12-967b-d78b48cf8d64",
   "metadata": {},
   "outputs": [
    {
     "data": {
      "text/plain": [
       "'30 Minute Full Body Strong &amp; Fit Workout | EFFORT - Day 1'"
      ]
     },
     "execution_count": 7,
     "metadata": {},
     "output_type": "execute_result"
    }
   ],
   "source": [
    "response['items'][0]['snippet']['title']"
   ]
  },
  {
   "cell_type": "markdown",
   "id": "e1b39511-5cb6-4773-aec1-2940003eb982",
   "metadata": {},
   "source": [
    "And the description:"
   ]
  },
  {
   "cell_type": "code",
   "execution_count": 8,
   "id": "332a2fc9-442e-435e-8b2a-55a62d7e3992",
   "metadata": {},
   "outputs": [
    {
     "data": {
      "text/plain": [
       "\"It's time to put in the EFFORT! DAY 1 of our PROCESS program kicks today off with a full body quick and sweaty workout to get us ...\""
      ]
     },
     "execution_count": 8,
     "metadata": {},
     "output_type": "execute_result"
    }
   ],
   "source": [
    "response['items'][0]['snippet']['description']"
   ]
  },
  {
   "cell_type": "markdown",
   "id": "04d60d5d-75f9-4f58-a57c-71f592683ef3",
   "metadata": {},
   "source": [
    "### 1. Create a dataframe with channel metadata\n",
    "\n",
    "Did someone say dataframe? My package of choice is Pandas. You might prefer something else. That's fine! Do what works for you."
   ]
  },
  {
   "cell_type": "code",
   "execution_count": 9,
   "id": "e545060b-c3f9-4221-ade3-498775fcfe07",
   "metadata": {},
   "outputs": [],
   "source": [
    "import pandas as pd"
   ]
  },
  {
   "cell_type": "markdown",
   "id": "ae37a718-84b4-4efd-b859-287360334653",
   "metadata": {},
   "source": [
    "To minimize the number of calls to YouTube, edit the dates in the request."
   ]
  },
  {
   "cell_type": "code",
   "execution_count": 10,
   "id": "0179673f-7943-421d-abdc-5d09e432ad72",
   "metadata": {},
   "outputs": [],
   "source": [
    "request = youtube.search().list(\n",
    "    part=\"snippet\",\n",
    "    channelId=\"UCVQJZE_on7It_pEv6tn-jdA\",\n",
    "    maxResults=31,\n",
    "    publishedAfter=\"2023-01-01T00:00:00Z\",\n",
    "    publishedBefore=\"2023-02-01T00:00:00Z\",\n",
    "    type=\"video\"\n",
    ")\n",
    "response = request.execute()"
   ]
  },
  {
   "cell_type": "markdown",
   "id": "07eb4308-8c0f-4175-a562-a493cc5421b7",
   "metadata": {},
   "source": [
    "Remember that the response has lots of metadata! If you are interested, you can dive into the other keys in the response dictionary, but for this project, I only care about `items`."
   ]
  },
  {
   "cell_type": "code",
   "execution_count": 11,
   "id": "e839ac13-bb4f-4925-9353-242623b9db5e",
   "metadata": {},
   "outputs": [
    {
     "data": {
      "text/plain": [
       "dict_keys(['kind', 'etag', 'regionCode', 'pageInfo', 'items'])"
      ]
     },
     "execution_count": 11,
     "metadata": {},
     "output_type": "execute_result"
    }
   ],
   "source": [
    "response.keys()"
   ]
  },
  {
   "cell_type": "markdown",
   "id": "4e1ffe49-444c-4e73-a0b9-aa5f13144838",
   "metadata": {},
   "source": [
    "I'll check that the response has the number of items I expect: Sydney published 20 videos in January 2023."
   ]
  },
  {
   "cell_type": "code",
   "execution_count": 12,
   "id": "48e58639-ef5b-4e88-9b49-18c9fde326fb",
   "metadata": {},
   "outputs": [
    {
     "data": {
      "text/plain": [
       "20"
      ]
     },
     "execution_count": 12,
     "metadata": {},
     "output_type": "execute_result"
    }
   ],
   "source": [
    "len(response['items'])"
   ]
  },
  {
   "cell_type": "markdown",
   "id": "0d34c520-fbd3-4be2-85b6-0ade2dfcf696",
   "metadata": {},
   "source": [
    "Great! Now I am ready to create the dataframe of metadata for the month. I'll start with the video ids, their titles, their publication dates, and descriptions.\n",
    "\n",
    "You'll notice that I do a couple of checks after extracting the data: what is the length of the list and what the content looks like. "
   ]
  },
  {
   "cell_type": "code",
   "execution_count": 13,
   "id": "799bfefa-c7d5-47f3-8ab2-a946fbd90c4b",
   "metadata": {},
   "outputs": [],
   "source": [
    "ids = []\n",
    "for item in response['items']:\n",
    "    id = item['id']['videoId']\n",
    "    ids.append(id)"
   ]
  },
  {
   "cell_type": "code",
   "execution_count": 14,
   "id": "82f2ebc3-7109-4fcf-a9df-af2455d9c50f",
   "metadata": {},
   "outputs": [
    {
     "data": {
      "text/plain": [
       "20"
      ]
     },
     "execution_count": 14,
     "metadata": {},
     "output_type": "execute_result"
    }
   ],
   "source": [
    "len(ids)"
   ]
  },
  {
   "cell_type": "code",
   "execution_count": 15,
   "id": "10a3c66f-44d2-4bc7-85ab-5e2f1cedab49",
   "metadata": {},
   "outputs": [
    {
     "data": {
      "text/plain": [
       "'WbkHfqIuhcE'"
      ]
     },
     "execution_count": 15,
     "metadata": {},
     "output_type": "execute_result"
    }
   ],
   "source": [
    "ids[0]"
   ]
  },
  {
   "cell_type": "code",
   "execution_count": 16,
   "id": "ed9ea0ed-d283-4284-9ee1-715ba95ee3cb",
   "metadata": {},
   "outputs": [],
   "source": [
    "titles = []\n",
    "for item in response['items']:\n",
    "    title = item['snippet']['title']\n",
    "    titles.append(title)"
   ]
  },
  {
   "cell_type": "code",
   "execution_count": 17,
   "id": "38694109-d918-493a-895a-167da1cb47db",
   "metadata": {},
   "outputs": [
    {
     "data": {
      "text/plain": [
       "20"
      ]
     },
     "execution_count": 17,
     "metadata": {},
     "output_type": "execute_result"
    }
   ],
   "source": [
    "len(titles)"
   ]
  },
  {
   "cell_type": "code",
   "execution_count": 18,
   "id": "0bb4cb38-3292-4b25-a008-44450b80d13e",
   "metadata": {},
   "outputs": [
    {
     "data": {
      "text/plain": [
       "'30 Minute Lower Body &amp; Jump Rope Bootcamp | EFFORT - Day 10'"
      ]
     },
     "execution_count": 18,
     "metadata": {},
     "output_type": "execute_result"
    }
   ],
   "source": [
    "titles[0]"
   ]
  },
  {
   "cell_type": "code",
   "execution_count": 19,
   "id": "4801179b-4b1a-4588-91b1-e1adffe37224",
   "metadata": {},
   "outputs": [],
   "source": [
    "times = []\n",
    "for item in response['items']:\n",
    "    time = item['snippet']['publishedAt']\n",
    "    times.append(time)"
   ]
  },
  {
   "cell_type": "code",
   "execution_count": 20,
   "id": "b76d920e-e562-4d45-a282-e7a476105907",
   "metadata": {},
   "outputs": [
    {
     "data": {
      "text/plain": [
       "20"
      ]
     },
     "execution_count": 20,
     "metadata": {},
     "output_type": "execute_result"
    }
   ],
   "source": [
    "len(times)"
   ]
  },
  {
   "cell_type": "code",
   "execution_count": 21,
   "id": "0aa9eb5e-21bc-4cc4-93e5-7b0b72dcb051",
   "metadata": {},
   "outputs": [
    {
     "data": {
      "text/plain": [
       "'2023-01-14T10:00:20Z'"
      ]
     },
     "execution_count": 21,
     "metadata": {},
     "output_type": "execute_result"
    }
   ],
   "source": [
    "times[0]"
   ]
  },
  {
   "cell_type": "markdown",
   "id": "3eaea7ed-097d-4d9a-8afe-d5f33815090e",
   "metadata": {},
   "source": [
    "You may be thinking that this is getting a little repetitive and that I should write a function to get this done. If I were putting this into production somewhere, I would agree with you."
   ]
  },
  {
   "cell_type": "code",
   "execution_count": 22,
   "id": "e7de15c3-9165-4390-a63d-1e5787f70cfa",
   "metadata": {},
   "outputs": [],
   "source": [
    "descs = []\n",
    "for item in response['items']:\n",
    "    desc = item['snippet']['description']\n",
    "    descs.append(desc)"
   ]
  },
  {
   "cell_type": "code",
   "execution_count": 23,
   "id": "202bc7fd-6393-4240-a696-3255e09b4262",
   "metadata": {},
   "outputs": [
    {
     "data": {
      "text/plain": [
       "20"
      ]
     },
     "execution_count": 23,
     "metadata": {},
     "output_type": "execute_result"
    }
   ],
   "source": [
    "len(descs)"
   ]
  },
  {
   "cell_type": "code",
   "execution_count": 24,
   "id": "0d506425-8d72-4642-b6ee-4d41ecb82d9e",
   "metadata": {},
   "outputs": [
    {
     "data": {
      "text/plain": [
       "\"Let's work today everyone! It's DAY 10 of our PROCESS program and this workout is going to push you by working your lower ...\""
      ]
     },
     "execution_count": 24,
     "metadata": {},
     "output_type": "execute_result"
    }
   ],
   "source": [
    "descs[0]"
   ]
  },
  {
   "cell_type": "markdown",
   "id": "a81fc997-17aa-4a70-879a-b986d88491c5",
   "metadata": {},
   "source": [
    "We can now create the dataframe of metadata about Sydney's videos for the month of January."
   ]
  },
  {
   "cell_type": "code",
   "execution_count": 25,
   "id": "e8c45dd1-15fd-44b8-8de7-c21c4fd62cec",
   "metadata": {},
   "outputs": [],
   "source": [
    "data = pd.DataFrame({'vid':ids,'title':titles,'published':times,\n",
    "             'description':descs})"
   ]
  },
  {
   "cell_type": "code",
   "execution_count": 26,
   "id": "0a8bac38-9467-4878-b709-33c633b4d7f9",
   "metadata": {},
   "outputs": [
    {
     "data": {
      "text/html": [
       "<div>\n",
       "<style scoped>\n",
       "    .dataframe tbody tr th:only-of-type {\n",
       "        vertical-align: middle;\n",
       "    }\n",
       "\n",
       "    .dataframe tbody tr th {\n",
       "        vertical-align: top;\n",
       "    }\n",
       "\n",
       "    .dataframe thead th {\n",
       "        text-align: right;\n",
       "    }\n",
       "</style>\n",
       "<table border=\"1\" class=\"dataframe\">\n",
       "  <thead>\n",
       "    <tr style=\"text-align: right;\">\n",
       "      <th></th>\n",
       "      <th>vid</th>\n",
       "      <th>title</th>\n",
       "      <th>published</th>\n",
       "      <th>description</th>\n",
       "    </tr>\n",
       "  </thead>\n",
       "  <tbody>\n",
       "    <tr>\n",
       "      <th>0</th>\n",
       "      <td>WbkHfqIuhcE</td>\n",
       "      <td>30 Minute Lower Body &amp;amp; Jump Rope Bootcamp ...</td>\n",
       "      <td>2023-01-14T10:00:20Z</td>\n",
       "      <td>Let's work today everyone! It's DAY 10 of our ...</td>\n",
       "    </tr>\n",
       "    <tr>\n",
       "      <th>1</th>\n",
       "      <td>5lXhLLaSQh8</td>\n",
       "      <td>30 Minute Arms &amp;amp; Abs HIIT Workout | EFFORT...</td>\n",
       "      <td>2023-01-17T10:00:01Z</td>\n",
       "      <td>This week is a BIG WEEK FOR YOU! You're still ...</td>\n",
       "    </tr>\n",
       "    <tr>\n",
       "      <th>2</th>\n",
       "      <td>uq3ElaQPAVw</td>\n",
       "      <td>40 Minute Cardio &amp;amp; Upper Body Sweat Workou...</td>\n",
       "      <td>2023-01-24T10:00:23Z</td>\n",
       "      <td>It's a conditioning and upper body sweat sessi...</td>\n",
       "    </tr>\n",
       "    <tr>\n",
       "      <th>3</th>\n",
       "      <td>lijTEQmIo4o</td>\n",
       "      <td>45 Minute Greatest Glutes &amp;amp; Cardio Workout...</td>\n",
       "      <td>2023-01-28T10:00:27Z</td>\n",
       "      <td>It's the final workout of EFFORT in January 20...</td>\n",
       "    </tr>\n",
       "    <tr>\n",
       "      <th>4</th>\n",
       "      <td>kU8M0Sc_WTQ</td>\n",
       "      <td>40 Minute Legs &amp;amp; Abs Sculpt Workout | EFFO...</td>\n",
       "      <td>2023-01-25T10:00:32Z</td>\n",
       "      <td>Let's work today everyone! It's DAY 18 of our ...</td>\n",
       "    </tr>\n",
       "  </tbody>\n",
       "</table>\n",
       "</div>"
      ],
      "text/plain": [
       "           vid                                              title  \\\n",
       "0  WbkHfqIuhcE  30 Minute Lower Body &amp; Jump Rope Bootcamp ...   \n",
       "1  5lXhLLaSQh8  30 Minute Arms &amp; Abs HIIT Workout | EFFORT...   \n",
       "2  uq3ElaQPAVw  40 Minute Cardio &amp; Upper Body Sweat Workou...   \n",
       "3  lijTEQmIo4o  45 Minute Greatest Glutes &amp; Cardio Workout...   \n",
       "4  kU8M0Sc_WTQ  40 Minute Legs &amp; Abs Sculpt Workout | EFFO...   \n",
       "\n",
       "              published                                        description  \n",
       "0  2023-01-14T10:00:20Z  Let's work today everyone! It's DAY 10 of our ...  \n",
       "1  2023-01-17T10:00:01Z  This week is a BIG WEEK FOR YOU! You're still ...  \n",
       "2  2023-01-24T10:00:23Z  It's a conditioning and upper body sweat sessi...  \n",
       "3  2023-01-28T10:00:27Z  It's the final workout of EFFORT in January 20...  \n",
       "4  2023-01-25T10:00:32Z  Let's work today everyone! It's DAY 18 of our ...  "
      ]
     },
     "execution_count": 26,
     "metadata": {},
     "output_type": "execute_result"
    }
   ],
   "source": [
    "data.head()"
   ]
  },
  {
   "cell_type": "markdown",
   "id": "f29a946d-ad49-4d25-aadf-cbf21126abd5",
   "metadata": {},
   "source": [
    "Looks good! I notice, however, that the `published` values are not in chronological order. This is probably going to bug me so..."
   ]
  },
  {
   "cell_type": "code",
   "execution_count": 27,
   "id": "f74faa8b-1e5d-479b-8407-89440d882dbb",
   "metadata": {},
   "outputs": [],
   "source": [
    "data = data.sort_values('published')"
   ]
  },
  {
   "cell_type": "code",
   "execution_count": 53,
   "id": "2cc83a23-9504-4c47-bcf4-96367f15bf5f",
   "metadata": {},
   "outputs": [
    {
     "data": {
      "text/html": [
       "<div>\n",
       "<style scoped>\n",
       "    .dataframe tbody tr th:only-of-type {\n",
       "        vertical-align: middle;\n",
       "    }\n",
       "\n",
       "    .dataframe tbody tr th {\n",
       "        vertical-align: top;\n",
       "    }\n",
       "\n",
       "    .dataframe thead th {\n",
       "        text-align: right;\n",
       "    }\n",
       "</style>\n",
       "<table border=\"1\" class=\"dataframe\">\n",
       "  <thead>\n",
       "    <tr style=\"text-align: right;\">\n",
       "      <th></th>\n",
       "      <th>vid</th>\n",
       "      <th>title</th>\n",
       "      <th>description</th>\n",
       "      <th>viewCount</th>\n",
       "      <th>likeCount</th>\n",
       "      <th>commentCount</th>\n",
       "      <th>time</th>\n",
       "    </tr>\n",
       "    <tr>\n",
       "      <th>date</th>\n",
       "      <th></th>\n",
       "      <th></th>\n",
       "      <th></th>\n",
       "      <th></th>\n",
       "      <th></th>\n",
       "      <th></th>\n",
       "      <th></th>\n",
       "    </tr>\n",
       "  </thead>\n",
       "  <tbody>\n",
       "    <tr>\n",
       "      <th>2023-01-02</th>\n",
       "      <td>qLKflJjWDi4</td>\n",
       "      <td>30 Minute Full Body Strong &amp;amp; Fit Workout |...</td>\n",
       "      <td>It's time to put in the EFFORT! DAY 1 of our P...</td>\n",
       "      <td>229361</td>\n",
       "      <td>16373</td>\n",
       "      <td>1605</td>\n",
       "      <td>30</td>\n",
       "    </tr>\n",
       "    <tr>\n",
       "      <th>2023-01-03</th>\n",
       "      <td>NzIylrLhkJ4</td>\n",
       "      <td>40 Minute Upper Body and Plank Challenge | EFF...</td>\n",
       "      <td>It's time to put in the EFFORT! DAY 2 of our P...</td>\n",
       "      <td>113614</td>\n",
       "      <td>10380</td>\n",
       "      <td>561</td>\n",
       "      <td>40</td>\n",
       "    </tr>\n",
       "    <tr>\n",
       "      <th>2023-01-04</th>\n",
       "      <td>A5kHPgAi3I0</td>\n",
       "      <td>30 Minute Lean Legs &amp;amp; Cardio Workout | EFF...</td>\n",
       "      <td>Oh my Quad! It's DAY 3 of our PROCESS program ...</td>\n",
       "      <td>119897</td>\n",
       "      <td>11288</td>\n",
       "      <td>772</td>\n",
       "      <td>30</td>\n",
       "    </tr>\n",
       "    <tr>\n",
       "      <th>2023-01-06</th>\n",
       "      <td>A67VMX9hlmc</td>\n",
       "      <td>30 Minute Upper Body &amp;amp; HIIT Cardio Workout...</td>\n",
       "      <td>It's time to put in the EFFORT! DAY 4 of our P...</td>\n",
       "      <td>108729</td>\n",
       "      <td>10261</td>\n",
       "      <td>504</td>\n",
       "      <td>30</td>\n",
       "    </tr>\n",
       "    <tr>\n",
       "      <th>2023-01-07</th>\n",
       "      <td>lpv4RdNefyU</td>\n",
       "      <td>45 Minute Strong Glutes &amp;amp; Abs Workout | EF...</td>\n",
       "      <td>These glutes are on FIYAH! It's DAY 5 of our P...</td>\n",
       "      <td>99108</td>\n",
       "      <td>8675</td>\n",
       "      <td>468</td>\n",
       "      <td>45</td>\n",
       "    </tr>\n",
       "  </tbody>\n",
       "</table>\n",
       "</div>"
      ],
      "text/plain": [
       "                    vid                                              title  \\\n",
       "date                                                                         \n",
       "2023-01-02  qLKflJjWDi4  30 Minute Full Body Strong &amp; Fit Workout |...   \n",
       "2023-01-03  NzIylrLhkJ4  40 Minute Upper Body and Plank Challenge | EFF...   \n",
       "2023-01-04  A5kHPgAi3I0  30 Minute Lean Legs &amp; Cardio Workout | EFF...   \n",
       "2023-01-06  A67VMX9hlmc  30 Minute Upper Body &amp; HIIT Cardio Workout...   \n",
       "2023-01-07  lpv4RdNefyU  45 Minute Strong Glutes &amp; Abs Workout | EF...   \n",
       "\n",
       "                                                  description viewCount  \\\n",
       "date                                                                      \n",
       "2023-01-02  It's time to put in the EFFORT! DAY 1 of our P...    229361   \n",
       "2023-01-03  It's time to put in the EFFORT! DAY 2 of our P...    113614   \n",
       "2023-01-04  Oh my Quad! It's DAY 3 of our PROCESS program ...    119897   \n",
       "2023-01-06  It's time to put in the EFFORT! DAY 4 of our P...    108729   \n",
       "2023-01-07  These glutes are on FIYAH! It's DAY 5 of our P...     99108   \n",
       "\n",
       "           likeCount commentCount  time  \n",
       "date                                     \n",
       "2023-01-02     16373         1605    30  \n",
       "2023-01-03     10380          561    40  \n",
       "2023-01-04     11288          772    30  \n",
       "2023-01-06     10261          504    30  \n",
       "2023-01-07      8675          468    45  "
      ]
     },
     "execution_count": 53,
     "metadata": {},
     "output_type": "execute_result"
    }
   ],
   "source": [
    "data.head()"
   ]
  },
  {
   "cell_type": "markdown",
   "id": "c8d94d91-9dd0-4a56-8b1e-6842e8c93bdd",
   "metadata": {},
   "source": [
    "That's better."
   ]
  },
  {
   "cell_type": "markdown",
   "id": "a4e5e2b4-dc4c-47d4-a552-9f580f13241e",
   "metadata": {},
   "source": [
    "### 2. Augment dataframe with video metadata\n",
    "\n",
    "To get more information about each video, we formulate a new request. "
   ]
  },
  {
   "cell_type": "code",
   "execution_count": 28,
   "id": "532338b1-e144-43ef-a9f4-6a6c602d26ec",
   "metadata": {},
   "outputs": [],
   "source": [
    "def get_vid_stats(vid):\n",
    "    request = youtube.videos().list(\n",
    "        part=\"statistics\",\n",
    "        id=vid\n",
    "    )\n",
    "    response = request.execute()\n",
    "    return response"
   ]
  },
  {
   "cell_type": "markdown",
   "id": "58715f5f-8b7a-45e4-bc5e-e70bbca0cefc",
   "metadata": {},
   "source": [
    "Let's see what kind of information we get about one of the videos in our dataframe."
   ]
  },
  {
   "cell_type": "code",
   "execution_count": 29,
   "id": "da36a815-7fd8-4f32-a6b6-bcbad07b4a32",
   "metadata": {},
   "outputs": [
    {
     "data": {
      "text/plain": [
       "{'kind': 'youtube#videoListResponse',\n",
       " 'etag': 'CVwEmYwnUmk3l0wQ8GRIWoavsjA',\n",
       " 'items': [{'kind': 'youtube#video',\n",
       "   'etag': 'uT2FDFTPSgEz6JInvYCkbfWws5k',\n",
       "   'id': 'WbkHfqIuhcE',\n",
       "   'statistics': {'viewCount': '69261',\n",
       "    'likeCount': '7862',\n",
       "    'favoriteCount': '0',\n",
       "    'commentCount': '714'}}],\n",
       " 'pageInfo': {'totalResults': 1, 'resultsPerPage': 1}}"
      ]
     },
     "execution_count": 29,
     "metadata": {},
     "output_type": "execute_result"
    }
   ],
   "source": [
    "response = get_vid_stats(data.loc[0,'vid'])\n",
    "response"
   ]
  },
  {
   "cell_type": "markdown",
   "id": "3a8df152-e99c-4218-9489-288a8c3c8290",
   "metadata": {},
   "source": [
    "I spy `statistics` in the `items` list. How to extract them?"
   ]
  },
  {
   "cell_type": "code",
   "execution_count": 30,
   "id": "83ae88c1-d98f-476d-8a4e-9c39c2d9742c",
   "metadata": {},
   "outputs": [
    {
     "data": {
      "text/plain": [
       "{'viewCount': '69261',\n",
       " 'likeCount': '7862',\n",
       " 'favoriteCount': '0',\n",
       " 'commentCount': '714'}"
      ]
     },
     "execution_count": 30,
     "metadata": {},
     "output_type": "execute_result"
    }
   ],
   "source": [
    "response['items'][0]['statistics']"
   ]
  },
  {
   "cell_type": "code",
   "execution_count": 31,
   "id": "8fe1a7f7-a66b-439a-a1d2-f45511892c34",
   "metadata": {},
   "outputs": [
    {
     "data": {
      "text/plain": [
       "['viewCount', 'likeCount', 'favoriteCount', 'commentCount']"
      ]
     },
     "execution_count": 31,
     "metadata": {},
     "output_type": "execute_result"
    }
   ],
   "source": [
    "keys = list(response['items'][0]['statistics'].keys())\n",
    "keys"
   ]
  },
  {
   "cell_type": "markdown",
   "id": "75a0d4ce-8627-487c-ba33-13490d8d5cc8",
   "metadata": {},
   "source": [
    "For this I will write a function."
   ]
  },
  {
   "cell_type": "code",
   "execution_count": 32,
   "id": "798061ce-d188-4709-88d3-459cf7490e3e",
   "metadata": {},
   "outputs": [],
   "source": [
    "def extract_stats(row):\n",
    "    '''\n",
    "    Add new columns with video statistics to the row of a pd.DataFrame\n",
    "    '''\n",
    "    response = get_vid_stats(row['vid'])\n",
    "    for key in keys:\n",
    "        row[key] = response['items'][0]['statistics'][key]\n",
    "    return row"
   ]
  },
  {
   "cell_type": "markdown",
   "id": "7897f083-7bf4-4e4a-8351-1d12e6208917",
   "metadata": {},
   "source": [
    "And test it out..."
   ]
  },
  {
   "cell_type": "code",
   "execution_count": 33,
   "id": "afbad181-dfa7-4977-8a3a-be973b8f0da3",
   "metadata": {},
   "outputs": [
    {
     "data": {
      "text/plain": [
       "vid                                                    WbkHfqIuhcE\n",
       "title            30 Minute Lower Body &amp; Jump Rope Bootcamp ...\n",
       "published                                     2023-01-14T10:00:20Z\n",
       "description      Let's work today everyone! It's DAY 10 of our ...\n",
       "viewCount                                                    69261\n",
       "likeCount                                                     7862\n",
       "favoriteCount                                                    0\n",
       "commentCount                                                   714\n",
       "Name: 0, dtype: object"
      ]
     },
     "execution_count": 33,
     "metadata": {},
     "output_type": "execute_result"
    }
   ],
   "source": [
    "extract_stats(data.loc[0])"
   ]
  },
  {
   "cell_type": "markdown",
   "id": "078e4aaa-dfa4-407f-bddb-b6e67c5c6596",
   "metadata": {},
   "source": [
    "It works as expected, so apply to all the rows:"
   ]
  },
  {
   "cell_type": "code",
   "execution_count": 34,
   "id": "365d9784-1790-4c98-a9c0-7c73b4ee7f07",
   "metadata": {},
   "outputs": [],
   "source": [
    "data = data.apply(extract_stats, axis=1)"
   ]
  },
  {
   "cell_type": "markdown",
   "id": "25daac7b-7c15-4db5-a524-77ebbfa6e7b4",
   "metadata": {},
   "source": [
    "See what this looks like..."
   ]
  },
  {
   "cell_type": "code",
   "execution_count": 35,
   "id": "52e446ba-eb95-4d7f-8149-920321f37b5c",
   "metadata": {},
   "outputs": [
    {
     "data": {
      "text/html": [
       "<div>\n",
       "<style scoped>\n",
       "    .dataframe tbody tr th:only-of-type {\n",
       "        vertical-align: middle;\n",
       "    }\n",
       "\n",
       "    .dataframe tbody tr th {\n",
       "        vertical-align: top;\n",
       "    }\n",
       "\n",
       "    .dataframe thead th {\n",
       "        text-align: right;\n",
       "    }\n",
       "</style>\n",
       "<table border=\"1\" class=\"dataframe\">\n",
       "  <thead>\n",
       "    <tr style=\"text-align: right;\">\n",
       "      <th></th>\n",
       "      <th>vid</th>\n",
       "      <th>title</th>\n",
       "      <th>published</th>\n",
       "      <th>description</th>\n",
       "      <th>viewCount</th>\n",
       "      <th>likeCount</th>\n",
       "      <th>favoriteCount</th>\n",
       "      <th>commentCount</th>\n",
       "    </tr>\n",
       "  </thead>\n",
       "  <tbody>\n",
       "    <tr>\n",
       "      <th>18</th>\n",
       "      <td>qLKflJjWDi4</td>\n",
       "      <td>30 Minute Full Body Strong &amp;amp; Fit Workout |...</td>\n",
       "      <td>2023-01-02T10:00:18Z</td>\n",
       "      <td>It's time to put in the EFFORT! DAY 1 of our P...</td>\n",
       "      <td>229361</td>\n",
       "      <td>16373</td>\n",
       "      <td>0</td>\n",
       "      <td>1605</td>\n",
       "    </tr>\n",
       "    <tr>\n",
       "      <th>12</th>\n",
       "      <td>NzIylrLhkJ4</td>\n",
       "      <td>40 Minute Upper Body and Plank Challenge | EFF...</td>\n",
       "      <td>2023-01-03T10:00:11Z</td>\n",
       "      <td>It's time to put in the EFFORT! DAY 2 of our P...</td>\n",
       "      <td>113614</td>\n",
       "      <td>10380</td>\n",
       "      <td>0</td>\n",
       "      <td>561</td>\n",
       "    </tr>\n",
       "    <tr>\n",
       "      <th>13</th>\n",
       "      <td>A5kHPgAi3I0</td>\n",
       "      <td>30 Minute Lean Legs &amp;amp; Cardio Workout | EFF...</td>\n",
       "      <td>2023-01-04T10:00:04Z</td>\n",
       "      <td>Oh my Quad! It's DAY 3 of our PROCESS program ...</td>\n",
       "      <td>119897</td>\n",
       "      <td>11288</td>\n",
       "      <td>0</td>\n",
       "      <td>772</td>\n",
       "    </tr>\n",
       "    <tr>\n",
       "      <th>17</th>\n",
       "      <td>A67VMX9hlmc</td>\n",
       "      <td>30 Minute Upper Body &amp;amp; HIIT Cardio Workout...</td>\n",
       "      <td>2023-01-06T10:00:10Z</td>\n",
       "      <td>It's time to put in the EFFORT! DAY 4 of our P...</td>\n",
       "      <td>108729</td>\n",
       "      <td>10261</td>\n",
       "      <td>0</td>\n",
       "      <td>504</td>\n",
       "    </tr>\n",
       "    <tr>\n",
       "      <th>16</th>\n",
       "      <td>lpv4RdNefyU</td>\n",
       "      <td>45 Minute Strong Glutes &amp;amp; Abs Workout | EF...</td>\n",
       "      <td>2023-01-07T10:00:17Z</td>\n",
       "      <td>These glutes are on FIYAH! It's DAY 5 of our P...</td>\n",
       "      <td>99108</td>\n",
       "      <td>8675</td>\n",
       "      <td>0</td>\n",
       "      <td>468</td>\n",
       "    </tr>\n",
       "  </tbody>\n",
       "</table>\n",
       "</div>"
      ],
      "text/plain": [
       "            vid                                              title  \\\n",
       "18  qLKflJjWDi4  30 Minute Full Body Strong &amp; Fit Workout |...   \n",
       "12  NzIylrLhkJ4  40 Minute Upper Body and Plank Challenge | EFF...   \n",
       "13  A5kHPgAi3I0  30 Minute Lean Legs &amp; Cardio Workout | EFF...   \n",
       "17  A67VMX9hlmc  30 Minute Upper Body &amp; HIIT Cardio Workout...   \n",
       "16  lpv4RdNefyU  45 Minute Strong Glutes &amp; Abs Workout | EF...   \n",
       "\n",
       "               published                                        description  \\\n",
       "18  2023-01-02T10:00:18Z  It's time to put in the EFFORT! DAY 1 of our P...   \n",
       "12  2023-01-03T10:00:11Z  It's time to put in the EFFORT! DAY 2 of our P...   \n",
       "13  2023-01-04T10:00:04Z  Oh my Quad! It's DAY 3 of our PROCESS program ...   \n",
       "17  2023-01-06T10:00:10Z  It's time to put in the EFFORT! DAY 4 of our P...   \n",
       "16  2023-01-07T10:00:17Z  These glutes are on FIYAH! It's DAY 5 of our P...   \n",
       "\n",
       "   viewCount likeCount favoriteCount commentCount  \n",
       "18    229361     16373             0         1605  \n",
       "12    113614     10380             0          561  \n",
       "13    119897     11288             0          772  \n",
       "17    108729     10261             0          504  \n",
       "16     99108      8675             0          468  "
      ]
     },
     "execution_count": 35,
     "metadata": {},
     "output_type": "execute_result"
    }
   ],
   "source": [
    "data.head()"
   ]
  },
  {
   "cell_type": "markdown",
   "id": "7f0aea7f-fcdc-4df4-a838-069589a10d96",
   "metadata": {},
   "source": [
    "At this point, my data science brain is popcorning with hypotheses about what day of the week has the most plays, if there are time series trends, how this January compares to last January...but I'm trying to stay on topic."
   ]
  },
  {
   "cell_type": "markdown",
   "id": "2ff4f759-c83a-4d0a-9824-08d984faab4e",
   "metadata": {},
   "source": [
    "Just a little more metadata that interests me: how long is each workout? Conveniently, the answer is in the title of each video.\n",
    "\n",
    "I'll use a regular expression to extract the minutes. My favorite resource for testing out regex strings is [regex101.com](https://regex101.com). If you use this resource, don't put any sensitive information in the test string!!!"
   ]
  },
  {
   "cell_type": "code",
   "execution_count": 36,
   "id": "3ca971db-e811-4927-a1d7-a716771e4f0f",
   "metadata": {},
   "outputs": [],
   "source": [
    "import re"
   ]
  },
  {
   "cell_type": "markdown",
   "id": "d9590d4a-1dcb-48aa-bbdd-4a81ce408f8b",
   "metadata": {},
   "source": [
    "Test this out...I expect to get the number 30."
   ]
  },
  {
   "cell_type": "code",
   "execution_count": 37,
   "id": "f41abc36-6126-4e1a-81a5-c98147d2eda3",
   "metadata": {},
   "outputs": [
    {
     "data": {
      "text/plain": [
       "'30'"
      ]
     },
     "execution_count": 37,
     "metadata": {},
     "output_type": "execute_result"
    }
   ],
   "source": [
    "match = r'(\\d+)'\n",
    "matches = re.search(match, data.loc[0,'title'])\n",
    "matches.groups()[0]"
   ]
  },
  {
   "cell_type": "markdown",
   "id": "8f76b8ec-6247-486b-8573-a4ea70b9ceb4",
   "metadata": {},
   "source": [
    "Subtle but important to note ... this `'30'` is a string and not an integer. I'll make sure to convert it before storing in the dataframe."
   ]
  },
  {
   "cell_type": "code",
   "execution_count": 38,
   "id": "15f55a2f-098c-484c-885d-5e9c90fd30c2",
   "metadata": {},
   "outputs": [],
   "source": [
    "def get_workout_time(title):\n",
    "    match = r'(\\d+)'\n",
    "    matches = re.search(match, title)\n",
    "    try:\n",
    "        return int(matches.groups()[0])\n",
    "    except:\n",
    "        return -1"
   ]
  },
  {
   "cell_type": "code",
   "execution_count": 39,
   "id": "deeabab5-9fec-4e1e-bace-c5a5baa952eb",
   "metadata": {},
   "outputs": [],
   "source": [
    "data['time'] = data['title'].apply(get_workout_time)"
   ]
  },
  {
   "cell_type": "markdown",
   "id": "21a8c809-33d6-4c91-8858-412b8025353e",
   "metadata": {},
   "source": [
    "Do a quick check:"
   ]
  },
  {
   "cell_type": "code",
   "execution_count": 40,
   "id": "40d3545d-15f8-4b12-a7d0-9c44a76589e8",
   "metadata": {},
   "outputs": [
    {
     "data": {
      "text/html": [
       "<div>\n",
       "<style scoped>\n",
       "    .dataframe tbody tr th:only-of-type {\n",
       "        vertical-align: middle;\n",
       "    }\n",
       "\n",
       "    .dataframe tbody tr th {\n",
       "        vertical-align: top;\n",
       "    }\n",
       "\n",
       "    .dataframe thead th {\n",
       "        text-align: right;\n",
       "    }\n",
       "</style>\n",
       "<table border=\"1\" class=\"dataframe\">\n",
       "  <thead>\n",
       "    <tr style=\"text-align: right;\">\n",
       "      <th></th>\n",
       "      <th>title</th>\n",
       "      <th>time</th>\n",
       "    </tr>\n",
       "  </thead>\n",
       "  <tbody>\n",
       "    <tr>\n",
       "      <th>18</th>\n",
       "      <td>30 Minute Full Body Strong &amp;amp; Fit Workout |...</td>\n",
       "      <td>30</td>\n",
       "    </tr>\n",
       "    <tr>\n",
       "      <th>12</th>\n",
       "      <td>40 Minute Upper Body and Plank Challenge | EFF...</td>\n",
       "      <td>40</td>\n",
       "    </tr>\n",
       "    <tr>\n",
       "      <th>13</th>\n",
       "      <td>30 Minute Lean Legs &amp;amp; Cardio Workout | EFF...</td>\n",
       "      <td>30</td>\n",
       "    </tr>\n",
       "    <tr>\n",
       "      <th>17</th>\n",
       "      <td>30 Minute Upper Body &amp;amp; HIIT Cardio Workout...</td>\n",
       "      <td>30</td>\n",
       "    </tr>\n",
       "    <tr>\n",
       "      <th>16</th>\n",
       "      <td>45 Minute Strong Glutes &amp;amp; Abs Workout | EF...</td>\n",
       "      <td>45</td>\n",
       "    </tr>\n",
       "  </tbody>\n",
       "</table>\n",
       "</div>"
      ],
      "text/plain": [
       "                                                title  time\n",
       "18  30 Minute Full Body Strong &amp; Fit Workout |...    30\n",
       "12  40 Minute Upper Body and Plank Challenge | EFF...    40\n",
       "13  30 Minute Lean Legs &amp; Cardio Workout | EFF...    30\n",
       "17  30 Minute Upper Body &amp; HIIT Cardio Workout...    30\n",
       "16  45 Minute Strong Glutes &amp; Abs Workout | EF...    45"
      ]
     },
     "execution_count": 40,
     "metadata": {},
     "output_type": "execute_result"
    }
   ],
   "source": [
    "data[['title','time']].head()"
   ]
  },
  {
   "cell_type": "markdown",
   "id": "99193620-a7de-4287-a136-f3e853fa7223",
   "metadata": {},
   "source": [
    "Are you following along with a channel of your own interest? Look for video total time with a different request. Consult the YouTube Data API. You should find `duration` in the `part` called `contentDetails`. \n",
    "\n",
    "YouTube has its own time format `PTXMXS` so you'll have to get creative to extract the information you're looking for."
   ]
  },
  {
   "cell_type": "markdown",
   "id": "77157b1e-e356-47c6-b40f-3488a46171e3",
   "metadata": {},
   "source": [
    "The last bit of metadata that I want is to extract the date from the `published` column. Conveniently, Pandas has this kind of conversion built in. If you can remember the syntax, more power to you. I have to google it every single time.\n",
    "\n",
    "Here's the right syntax, tested out on the first five rows of the `published` column."
   ]
  },
  {
   "cell_type": "code",
   "execution_count": 41,
   "id": "09b5d7f8-9721-41c5-b1e3-72d86b5399b3",
   "metadata": {},
   "outputs": [
    {
     "data": {
      "text/plain": [
       "18    2023-01-02\n",
       "12    2023-01-03\n",
       "13    2023-01-04\n",
       "17    2023-01-06\n",
       "16    2023-01-07\n",
       "Name: published, dtype: object"
      ]
     },
     "execution_count": 41,
     "metadata": {},
     "output_type": "execute_result"
    }
   ],
   "source": [
    "pd.to_datetime(data['published'].head()).dt.date"
   ]
  },
  {
   "cell_type": "markdown",
   "id": "6bac85ea-a12a-4ad3-839e-a831ef4f4b0b",
   "metadata": {},
   "source": [
    "Polish this dataframe up: extract the publication date of each video, and then use these dates as the index. "
   ]
  },
  {
   "cell_type": "code",
   "execution_count": 43,
   "id": "ff5ff105-d1c2-41d7-9c6d-c28276477db1",
   "metadata": {},
   "outputs": [],
   "source": [
    "data['date'] = pd.to_datetime(data['published']).dt.date"
   ]
  },
  {
   "cell_type": "code",
   "execution_count": 47,
   "id": "809d1740-e121-4de7-8968-cca642714873",
   "metadata": {},
   "outputs": [
    {
     "data": {
      "text/html": [
       "<div>\n",
       "<style scoped>\n",
       "    .dataframe tbody tr th:only-of-type {\n",
       "        vertical-align: middle;\n",
       "    }\n",
       "\n",
       "    .dataframe tbody tr th {\n",
       "        vertical-align: top;\n",
       "    }\n",
       "\n",
       "    .dataframe thead th {\n",
       "        text-align: right;\n",
       "    }\n",
       "</style>\n",
       "<table border=\"1\" class=\"dataframe\">\n",
       "  <thead>\n",
       "    <tr style=\"text-align: right;\">\n",
       "      <th></th>\n",
       "      <th>vid</th>\n",
       "      <th>title</th>\n",
       "      <th>published</th>\n",
       "      <th>description</th>\n",
       "      <th>viewCount</th>\n",
       "      <th>likeCount</th>\n",
       "      <th>favoriteCount</th>\n",
       "      <th>commentCount</th>\n",
       "      <th>time</th>\n",
       "    </tr>\n",
       "    <tr>\n",
       "      <th>date</th>\n",
       "      <th></th>\n",
       "      <th></th>\n",
       "      <th></th>\n",
       "      <th></th>\n",
       "      <th></th>\n",
       "      <th></th>\n",
       "      <th></th>\n",
       "      <th></th>\n",
       "      <th></th>\n",
       "    </tr>\n",
       "  </thead>\n",
       "  <tbody>\n",
       "    <tr>\n",
       "      <th>2023-01-02</th>\n",
       "      <td>qLKflJjWDi4</td>\n",
       "      <td>30 Minute Full Body Strong &amp;amp; Fit Workout |...</td>\n",
       "      <td>2023-01-02T10:00:18Z</td>\n",
       "      <td>It's time to put in the EFFORT! DAY 1 of our P...</td>\n",
       "      <td>229361</td>\n",
       "      <td>16373</td>\n",
       "      <td>0</td>\n",
       "      <td>1605</td>\n",
       "      <td>30</td>\n",
       "    </tr>\n",
       "    <tr>\n",
       "      <th>2023-01-03</th>\n",
       "      <td>NzIylrLhkJ4</td>\n",
       "      <td>40 Minute Upper Body and Plank Challenge | EFF...</td>\n",
       "      <td>2023-01-03T10:00:11Z</td>\n",
       "      <td>It's time to put in the EFFORT! DAY 2 of our P...</td>\n",
       "      <td>113614</td>\n",
       "      <td>10380</td>\n",
       "      <td>0</td>\n",
       "      <td>561</td>\n",
       "      <td>40</td>\n",
       "    </tr>\n",
       "    <tr>\n",
       "      <th>2023-01-04</th>\n",
       "      <td>A5kHPgAi3I0</td>\n",
       "      <td>30 Minute Lean Legs &amp;amp; Cardio Workout | EFF...</td>\n",
       "      <td>2023-01-04T10:00:04Z</td>\n",
       "      <td>Oh my Quad! It's DAY 3 of our PROCESS program ...</td>\n",
       "      <td>119897</td>\n",
       "      <td>11288</td>\n",
       "      <td>0</td>\n",
       "      <td>772</td>\n",
       "      <td>30</td>\n",
       "    </tr>\n",
       "    <tr>\n",
       "      <th>2023-01-06</th>\n",
       "      <td>A67VMX9hlmc</td>\n",
       "      <td>30 Minute Upper Body &amp;amp; HIIT Cardio Workout...</td>\n",
       "      <td>2023-01-06T10:00:10Z</td>\n",
       "      <td>It's time to put in the EFFORT! DAY 4 of our P...</td>\n",
       "      <td>108729</td>\n",
       "      <td>10261</td>\n",
       "      <td>0</td>\n",
       "      <td>504</td>\n",
       "      <td>30</td>\n",
       "    </tr>\n",
       "    <tr>\n",
       "      <th>2023-01-07</th>\n",
       "      <td>lpv4RdNefyU</td>\n",
       "      <td>45 Minute Strong Glutes &amp;amp; Abs Workout | EF...</td>\n",
       "      <td>2023-01-07T10:00:17Z</td>\n",
       "      <td>These glutes are on FIYAH! It's DAY 5 of our P...</td>\n",
       "      <td>99108</td>\n",
       "      <td>8675</td>\n",
       "      <td>0</td>\n",
       "      <td>468</td>\n",
       "      <td>45</td>\n",
       "    </tr>\n",
       "  </tbody>\n",
       "</table>\n",
       "</div>"
      ],
      "text/plain": [
       "                    vid                                              title  \\\n",
       "date                                                                         \n",
       "2023-01-02  qLKflJjWDi4  30 Minute Full Body Strong &amp; Fit Workout |...   \n",
       "2023-01-03  NzIylrLhkJ4  40 Minute Upper Body and Plank Challenge | EFF...   \n",
       "2023-01-04  A5kHPgAi3I0  30 Minute Lean Legs &amp; Cardio Workout | EFF...   \n",
       "2023-01-06  A67VMX9hlmc  30 Minute Upper Body &amp; HIIT Cardio Workout...   \n",
       "2023-01-07  lpv4RdNefyU  45 Minute Strong Glutes &amp; Abs Workout | EF...   \n",
       "\n",
       "                       published  \\\n",
       "date                               \n",
       "2023-01-02  2023-01-02T10:00:18Z   \n",
       "2023-01-03  2023-01-03T10:00:11Z   \n",
       "2023-01-04  2023-01-04T10:00:04Z   \n",
       "2023-01-06  2023-01-06T10:00:10Z   \n",
       "2023-01-07  2023-01-07T10:00:17Z   \n",
       "\n",
       "                                                  description viewCount  \\\n",
       "date                                                                      \n",
       "2023-01-02  It's time to put in the EFFORT! DAY 1 of our P...    229361   \n",
       "2023-01-03  It's time to put in the EFFORT! DAY 2 of our P...    113614   \n",
       "2023-01-04  Oh my Quad! It's DAY 3 of our PROCESS program ...    119897   \n",
       "2023-01-06  It's time to put in the EFFORT! DAY 4 of our P...    108729   \n",
       "2023-01-07  These glutes are on FIYAH! It's DAY 5 of our P...     99108   \n",
       "\n",
       "           likeCount favoriteCount commentCount  time  \n",
       "date                                                   \n",
       "2023-01-02     16373             0         1605    30  \n",
       "2023-01-03     10380             0          561    40  \n",
       "2023-01-04     11288             0          772    30  \n",
       "2023-01-06     10261             0          504    30  \n",
       "2023-01-07      8675             0          468    45  "
      ]
     },
     "execution_count": 47,
     "metadata": {},
     "output_type": "execute_result"
    }
   ],
   "source": [
    "data = data.set_index('date')\n",
    "data.head()"
   ]
  },
  {
   "cell_type": "markdown",
   "id": "63294c48-2a8e-438b-acb6-90febb767394",
   "metadata": {},
   "source": [
    "Before I save this dataframe, I'm going to drop a couple of columns that don't look useful."
   ]
  },
  {
   "cell_type": "code",
   "execution_count": 48,
   "id": "929b8b0a-f35a-49ad-b081-bf5fd8451139",
   "metadata": {},
   "outputs": [],
   "source": [
    "drop = ['published','favoriteCount']"
   ]
  },
  {
   "cell_type": "code",
   "execution_count": 50,
   "id": "d906df85-b85e-4555-a4c4-259bb4202e5e",
   "metadata": {},
   "outputs": [],
   "source": [
    "data = data.drop(columns=drop)"
   ]
  },
  {
   "cell_type": "code",
   "execution_count": 51,
   "id": "5cae2e27-4ee6-4b00-819c-41a4dea918e5",
   "metadata": {},
   "outputs": [
    {
     "data": {
      "text/html": [
       "<div>\n",
       "<style scoped>\n",
       "    .dataframe tbody tr th:only-of-type {\n",
       "        vertical-align: middle;\n",
       "    }\n",
       "\n",
       "    .dataframe tbody tr th {\n",
       "        vertical-align: top;\n",
       "    }\n",
       "\n",
       "    .dataframe thead th {\n",
       "        text-align: right;\n",
       "    }\n",
       "</style>\n",
       "<table border=\"1\" class=\"dataframe\">\n",
       "  <thead>\n",
       "    <tr style=\"text-align: right;\">\n",
       "      <th></th>\n",
       "      <th>vid</th>\n",
       "      <th>title</th>\n",
       "      <th>description</th>\n",
       "      <th>viewCount</th>\n",
       "      <th>likeCount</th>\n",
       "      <th>commentCount</th>\n",
       "      <th>time</th>\n",
       "    </tr>\n",
       "    <tr>\n",
       "      <th>date</th>\n",
       "      <th></th>\n",
       "      <th></th>\n",
       "      <th></th>\n",
       "      <th></th>\n",
       "      <th></th>\n",
       "      <th></th>\n",
       "      <th></th>\n",
       "    </tr>\n",
       "  </thead>\n",
       "  <tbody>\n",
       "    <tr>\n",
       "      <th>2023-01-02</th>\n",
       "      <td>qLKflJjWDi4</td>\n",
       "      <td>30 Minute Full Body Strong &amp;amp; Fit Workout |...</td>\n",
       "      <td>It's time to put in the EFFORT! DAY 1 of our P...</td>\n",
       "      <td>229361</td>\n",
       "      <td>16373</td>\n",
       "      <td>1605</td>\n",
       "      <td>30</td>\n",
       "    </tr>\n",
       "    <tr>\n",
       "      <th>2023-01-03</th>\n",
       "      <td>NzIylrLhkJ4</td>\n",
       "      <td>40 Minute Upper Body and Plank Challenge | EFF...</td>\n",
       "      <td>It's time to put in the EFFORT! DAY 2 of our P...</td>\n",
       "      <td>113614</td>\n",
       "      <td>10380</td>\n",
       "      <td>561</td>\n",
       "      <td>40</td>\n",
       "    </tr>\n",
       "    <tr>\n",
       "      <th>2023-01-04</th>\n",
       "      <td>A5kHPgAi3I0</td>\n",
       "      <td>30 Minute Lean Legs &amp;amp; Cardio Workout | EFF...</td>\n",
       "      <td>Oh my Quad! It's DAY 3 of our PROCESS program ...</td>\n",
       "      <td>119897</td>\n",
       "      <td>11288</td>\n",
       "      <td>772</td>\n",
       "      <td>30</td>\n",
       "    </tr>\n",
       "    <tr>\n",
       "      <th>2023-01-06</th>\n",
       "      <td>A67VMX9hlmc</td>\n",
       "      <td>30 Minute Upper Body &amp;amp; HIIT Cardio Workout...</td>\n",
       "      <td>It's time to put in the EFFORT! DAY 4 of our P...</td>\n",
       "      <td>108729</td>\n",
       "      <td>10261</td>\n",
       "      <td>504</td>\n",
       "      <td>30</td>\n",
       "    </tr>\n",
       "    <tr>\n",
       "      <th>2023-01-07</th>\n",
       "      <td>lpv4RdNefyU</td>\n",
       "      <td>45 Minute Strong Glutes &amp;amp; Abs Workout | EF...</td>\n",
       "      <td>These glutes are on FIYAH! It's DAY 5 of our P...</td>\n",
       "      <td>99108</td>\n",
       "      <td>8675</td>\n",
       "      <td>468</td>\n",
       "      <td>45</td>\n",
       "    </tr>\n",
       "  </tbody>\n",
       "</table>\n",
       "</div>"
      ],
      "text/plain": [
       "                    vid                                              title  \\\n",
       "date                                                                         \n",
       "2023-01-02  qLKflJjWDi4  30 Minute Full Body Strong &amp; Fit Workout |...   \n",
       "2023-01-03  NzIylrLhkJ4  40 Minute Upper Body and Plank Challenge | EFF...   \n",
       "2023-01-04  A5kHPgAi3I0  30 Minute Lean Legs &amp; Cardio Workout | EFF...   \n",
       "2023-01-06  A67VMX9hlmc  30 Minute Upper Body &amp; HIIT Cardio Workout...   \n",
       "2023-01-07  lpv4RdNefyU  45 Minute Strong Glutes &amp; Abs Workout | EF...   \n",
       "\n",
       "                                                  description viewCount  \\\n",
       "date                                                                      \n",
       "2023-01-02  It's time to put in the EFFORT! DAY 1 of our P...    229361   \n",
       "2023-01-03  It's time to put in the EFFORT! DAY 2 of our P...    113614   \n",
       "2023-01-04  Oh my Quad! It's DAY 3 of our PROCESS program ...    119897   \n",
       "2023-01-06  It's time to put in the EFFORT! DAY 4 of our P...    108729   \n",
       "2023-01-07  These glutes are on FIYAH! It's DAY 5 of our P...     99108   \n",
       "\n",
       "           likeCount commentCount  time  \n",
       "date                                     \n",
       "2023-01-02     16373         1605    30  \n",
       "2023-01-03     10380          561    40  \n",
       "2023-01-04     11288          772    30  \n",
       "2023-01-06     10261          504    30  \n",
       "2023-01-07      8675          468    45  "
      ]
     },
     "execution_count": 51,
     "metadata": {},
     "output_type": "execute_result"
    }
   ],
   "source": [
    "data.head()"
   ]
  },
  {
   "cell_type": "markdown",
   "id": "d3474b32-0335-403f-aeda-fc1f708f421b",
   "metadata": {},
   "source": [
    "And now time to save! Will continue augmenting this with transcript information in the next notebook."
   ]
  },
  {
   "cell_type": "code",
   "execution_count": 52,
   "id": "6acaf211-86ef-4439-bfda-ada3f278d476",
   "metadata": {},
   "outputs": [],
   "source": [
    "data.to_csv('../data/2023-01-effort-metadata.csv')"
   ]
  },
  {
   "cell_type": "code",
   "execution_count": null,
   "id": "73e218f5-abd7-4135-82f9-ecfc65341f3d",
   "metadata": {},
   "outputs": [],
   "source": []
  }
 ],
 "metadata": {
  "kernelspec": {
   "display_name": "Python 3 (ipykernel)",
   "language": "python",
   "name": "python3"
  },
  "language_info": {
   "codemirror_mode": {
    "name": "ipython",
    "version": 3
   },
   "file_extension": ".py",
   "mimetype": "text/x-python",
   "name": "python",
   "nbconvert_exporter": "python",
   "pygments_lexer": "ipython3",
   "version": "3.10.8"
  }
 },
 "nbformat": 4,
 "nbformat_minor": 5
}
