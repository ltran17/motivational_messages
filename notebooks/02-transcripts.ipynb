{
 "cells": [
  {
   "cell_type": "markdown",
   "id": "53cd056a-8123-4a44-974a-379eb5edab58",
   "metadata": {},
   "source": [
    "# Video Transcripts\n",
    "\n",
    "The main goal for this pet project is to capture Sydney's motivational talks. To do that, I need access to the transcripts for each video. This notebook captures that process.\n",
    "\n",
    "Note: Section links work in JupyterLab but do not work when viewed in Github.\n",
    "\n",
    "1. [Load](#Load-video-ids) video ids from the output of the [previous notebook](https://github.com/ltran17/motivational_messages/blob/main/notebooks/01-metadata.ipynb)\n",
    "2. [Acquire](#Acquire-transcripts-for-each-video) transcripts for each video\n",
    "3. [Extract](#Extract-the-motivational-talk-from-each-transcript) the motivational talk from each transcript\n",
    "4. [Save](#Save-dataframe-to-a-file) dataframe to a file "
   ]
  },
  {
   "cell_type": "markdown",
   "id": "e536d673-0408-42e3-93cc-c353058a54c0",
   "metadata": {
    "tags": []
   },
   "source": [
    "### Load video ids"
   ]
  },
  {
   "cell_type": "code",
   "execution_count": 1,
   "id": "4a48a039-bf9b-44d2-8b7c-3a5bf717017b",
   "metadata": {},
   "outputs": [],
   "source": [
    "import pandas as pd"
   ]
  },
  {
   "cell_type": "markdown",
   "id": "1967fd69-7545-4fdd-82d5-c6845f8c4d3e",
   "metadata": {},
   "source": [
    "I'm going to take a little side-trip here and talk about data hygiene.\n",
    "\n",
    "* Raw data should never be modified. Results of data cleaning or other transformations should never overwrite the original file. Best practices for data pipelines sometimes refer to [Bronze, Silver, and Gold level data](https://www.linkedin.com/pulse/consider-gold-silver-bronze-your-data-just-olympics-ruaidhri-hallinan/). These are code-words for data in raw, interim, or processed stages.\n",
    "\n",
    "* This is a small enough project that I'm not going to create separate folders for each stage of data. For any project larger than this, I would use the [Cookie Cutter Data Science file structure](https://drivendata.github.io/cookiecutter-data-science/#directory-structure).\n",
    "\n",
    "* **GitHub is a code repository and not a data repository.** I do not push data to GitHub. Data versioning tools exist! I encourage you to look into those. \n",
    "\n",
    "All that is to say: you will not find the output of the previous notebook in this repo. You will need to run the code yourself and save the data where you want it to live.\n",
    "\n",
    "* Here is where I stored the data:"
   ]
  },
  {
   "cell_type": "code",
   "execution_count": 2,
   "id": "958f6377-06b0-4878-9a4e-5e6a62fbcbca",
   "metadata": {},
   "outputs": [],
   "source": [
    "datafile = '../data/2023-01-effort-metadata.csv'"
   ]
  },
  {
   "cell_type": "markdown",
   "id": "c122af33-2caf-46fe-a59e-f2f482814aaa",
   "metadata": {},
   "source": [
    "* Since I know what my data looks like, I will take advantage of the parameters in the Pandas [`.read_csv` function](https://pandas.pydata.org/docs/reference/api/pandas.read_csv.html)."
   ]
  },
  {
   "cell_type": "code",
   "execution_count": 3,
   "id": "597a7950-335d-4daf-8279-c1d9d1c14e45",
   "metadata": {},
   "outputs": [
    {
     "data": {
      "text/html": [
       "<div>\n",
       "<style scoped>\n",
       "    .dataframe tbody tr th:only-of-type {\n",
       "        vertical-align: middle;\n",
       "    }\n",
       "\n",
       "    .dataframe tbody tr th {\n",
       "        vertical-align: top;\n",
       "    }\n",
       "\n",
       "    .dataframe thead th {\n",
       "        text-align: right;\n",
       "    }\n",
       "</style>\n",
       "<table border=\"1\" class=\"dataframe\">\n",
       "  <thead>\n",
       "    <tr style=\"text-align: right;\">\n",
       "      <th></th>\n",
       "      <th>vid</th>\n",
       "      <th>title</th>\n",
       "      <th>description</th>\n",
       "      <th>viewCount</th>\n",
       "      <th>likeCount</th>\n",
       "      <th>commentCount</th>\n",
       "      <th>time</th>\n",
       "    </tr>\n",
       "    <tr>\n",
       "      <th>date</th>\n",
       "      <th></th>\n",
       "      <th></th>\n",
       "      <th></th>\n",
       "      <th></th>\n",
       "      <th></th>\n",
       "      <th></th>\n",
       "      <th></th>\n",
       "    </tr>\n",
       "  </thead>\n",
       "  <tbody>\n",
       "    <tr>\n",
       "      <th>2023-01-02</th>\n",
       "      <td>qLKflJjWDi4</td>\n",
       "      <td>30 Minute Full Body Strong &amp;amp; Fit Workout |...</td>\n",
       "      <td>It's time to put in the EFFORT! DAY 1 of our P...</td>\n",
       "      <td>246754</td>\n",
       "      <td>16921</td>\n",
       "      <td>1624</td>\n",
       "      <td>30</td>\n",
       "    </tr>\n",
       "    <tr>\n",
       "      <th>2023-01-03</th>\n",
       "      <td>NzIylrLhkJ4</td>\n",
       "      <td>40 Minute Upper Body and Plank Challenge | EFF...</td>\n",
       "      <td>It's time to put in the EFFORT! DAY 2 of our P...</td>\n",
       "      <td>118414</td>\n",
       "      <td>10624</td>\n",
       "      <td>565</td>\n",
       "      <td>40</td>\n",
       "    </tr>\n",
       "    <tr>\n",
       "      <th>2023-01-04</th>\n",
       "      <td>A5kHPgAi3I0</td>\n",
       "      <td>30 Minute Lean Legs &amp;amp; Cardio Workout | EFF...</td>\n",
       "      <td>Oh my Quad! It's DAY 3 of our PROCESS program ...</td>\n",
       "      <td>125434</td>\n",
       "      <td>11581</td>\n",
       "      <td>780</td>\n",
       "      <td>30</td>\n",
       "    </tr>\n",
       "    <tr>\n",
       "      <th>2023-01-06</th>\n",
       "      <td>A67VMX9hlmc</td>\n",
       "      <td>30 Minute Upper Body &amp;amp; HIIT Cardio Workout...</td>\n",
       "      <td>It's time to put in the EFFORT! DAY 4 of our P...</td>\n",
       "      <td>114556</td>\n",
       "      <td>10591</td>\n",
       "      <td>511</td>\n",
       "      <td>30</td>\n",
       "    </tr>\n",
       "    <tr>\n",
       "      <th>2023-01-07</th>\n",
       "      <td>lpv4RdNefyU</td>\n",
       "      <td>45 Minute Strong Glutes &amp;amp; Abs Workout | EF...</td>\n",
       "      <td>These glutes are on FIYAH! It's DAY 5 of our P...</td>\n",
       "      <td>104764</td>\n",
       "      <td>8970</td>\n",
       "      <td>475</td>\n",
       "      <td>45</td>\n",
       "    </tr>\n",
       "  </tbody>\n",
       "</table>\n",
       "</div>"
      ],
      "text/plain": [
       "                    vid                                              title  \\\n",
       "date                                                                         \n",
       "2023-01-02  qLKflJjWDi4  30 Minute Full Body Strong &amp; Fit Workout |...   \n",
       "2023-01-03  NzIylrLhkJ4  40 Minute Upper Body and Plank Challenge | EFF...   \n",
       "2023-01-04  A5kHPgAi3I0  30 Minute Lean Legs &amp; Cardio Workout | EFF...   \n",
       "2023-01-06  A67VMX9hlmc  30 Minute Upper Body &amp; HIIT Cardio Workout...   \n",
       "2023-01-07  lpv4RdNefyU  45 Minute Strong Glutes &amp; Abs Workout | EF...   \n",
       "\n",
       "                                                  description  viewCount  \\\n",
       "date                                                                       \n",
       "2023-01-02  It's time to put in the EFFORT! DAY 1 of our P...     246754   \n",
       "2023-01-03  It's time to put in the EFFORT! DAY 2 of our P...     118414   \n",
       "2023-01-04  Oh my Quad! It's DAY 3 of our PROCESS program ...     125434   \n",
       "2023-01-06  It's time to put in the EFFORT! DAY 4 of our P...     114556   \n",
       "2023-01-07  These glutes are on FIYAH! It's DAY 5 of our P...     104764   \n",
       "\n",
       "            likeCount  commentCount  time  \n",
       "date                                       \n",
       "2023-01-02      16921          1624    30  \n",
       "2023-01-03      10624           565    40  \n",
       "2023-01-04      11581           780    30  \n",
       "2023-01-06      10591           511    30  \n",
       "2023-01-07       8970           475    45  "
      ]
     },
     "execution_count": 3,
     "metadata": {},
     "output_type": "execute_result"
    }
   ],
   "source": [
    "data = pd.read_csv(datafile, parse_dates=['date'], index_col='date')\n",
    "data.head()"
   ]
  },
  {
   "cell_type": "markdown",
   "id": "ac477f3e-3c02-423d-bf02-681c0f48b678",
   "metadata": {},
   "source": [
    "* And now I have the video ids."
   ]
  },
  {
   "cell_type": "code",
   "execution_count": 5,
   "id": "1603ed9d-194a-4ef3-a92e-9deccdcfe0d0",
   "metadata": {},
   "outputs": [
    {
     "data": {
      "text/plain": [
       "'qLKflJjWDi4'"
      ]
     },
     "execution_count": 5,
     "metadata": {},
     "output_type": "execute_result"
    }
   ],
   "source": [
    "vids = data['vid'].copy()\n",
    "test_vid = vids[0]\n",
    "test_vid"
   ]
  },
  {
   "cell_type": "markdown",
   "id": "428d25e5-e250-4472-85cb-85d2c453b9cf",
   "metadata": {},
   "source": [
    "[Return to top](#Get-transcripts-for-each-video)"
   ]
  },
  {
   "cell_type": "markdown",
   "id": "b46f5f11-0e17-43f2-a6a9-a7ceb60f3669",
   "metadata": {
    "tags": []
   },
   "source": [
    "### Acquire transcripts for each video"
   ]
  },
  {
   "cell_type": "markdown",
   "id": "909224e6-b557-41a3-84ff-f1c169c8052a",
   "metadata": {},
   "source": [
    "The YouTube API does not make it easy to get the transcripts from videos! As I googled around to figure it out, I landed on [YouTube Transcript API](https://pypi.org/project/youtube-transcript-api/) (available through pypi.org). \n",
    "\n",
    "* This package makes the transcript acquisition task straightforward. I encourage you to familiarize yourself with the package through the link above or [fork it yourself from the GitHub page](https://github.com/jdepoix/youtube-transcript-api).\n",
    "\n",
    "* **Caveat emptor**: The package author notes, \"This code uses an undocumented part of the YouTube API, which is called by the YouTube web-client. So there is no guarantee that it won't stop working tomorrow, if they change how things work.\" Good to know."
   ]
  },
  {
   "cell_type": "code",
   "execution_count": 4,
   "id": "81771ac6-45f7-4981-b94a-f0515da3f5a1",
   "metadata": {},
   "outputs": [],
   "source": [
    "from youtube_transcript_api import YouTubeTranscriptApi"
   ]
  },
  {
   "cell_type": "markdown",
   "id": "2848f3a4-6ffb-4233-a46f-7676adffd7f9",
   "metadata": {},
   "source": [
    "* I'm going to test out YouTube Transcript API's `.get_transcript` function."
   ]
  },
  {
   "cell_type": "code",
   "execution_count": 6,
   "id": "78a643c4-8e07-41f5-a00f-3cf701bd0e1f",
   "metadata": {},
   "outputs": [],
   "source": [
    "transcript = YouTubeTranscriptApi.get_transcript(test_vid)"
   ]
  },
  {
   "cell_type": "code",
   "execution_count": 7,
   "id": "971b8d41-812c-498b-9ac0-ceb0547eac45",
   "metadata": {},
   "outputs": [
    {
     "data": {
      "text/plain": [
       "list"
      ]
     },
     "execution_count": 7,
     "metadata": {},
     "output_type": "execute_result"
    }
   ],
   "source": [
    "type(transcript)"
   ]
  },
  {
   "cell_type": "code",
   "execution_count": 8,
   "id": "dbc5841b-e89c-4732-bc53-065eb98009e6",
   "metadata": {},
   "outputs": [
    {
     "data": {
      "text/plain": [
       "562"
      ]
     },
     "execution_count": 8,
     "metadata": {},
     "output_type": "execute_result"
    }
   ],
   "source": [
    "len(transcript)"
   ]
  },
  {
   "cell_type": "markdown",
   "id": "680ac486-2117-464d-a569-6d6aafe3e8d8",
   "metadata": {},
   "source": [
    "* That's a long list! I'll inspect just the first few elements."
   ]
  },
  {
   "cell_type": "code",
   "execution_count": 9,
   "id": "578ff2a5-5d81-4ddf-b588-56c5c895f679",
   "metadata": {},
   "outputs": [
    {
     "data": {
      "text/plain": [
       "[{'text': \"what's up everyone it's Sydney welcome\",\n",
       "  'start': 0.0,\n",
       "  'duration': 4.86},\n",
       " {'text': 'to process this is stage one the effort',\n",
       "  'start': 2.159,\n",
       "  'duration': 4.381},\n",
       " {'text': 'so grab some dumbbells for our 30 minute',\n",
       "  'start': 4.86,\n",
       "  'duration': 5.48}]"
      ]
     },
     "execution_count": 9,
     "metadata": {},
     "output_type": "execute_result"
    }
   ],
   "source": [
    "transcript[:3]"
   ]
  },
  {
   "cell_type": "markdown",
   "id": "16e57751-053f-41ef-9d87-1c0fabfab92c",
   "metadata": {},
   "source": [
    "* `transcript` is a list of dictionaries with three keys each: the `text`, `start` and `duration` in seconds (to the hundredth place).\n",
    "\n",
    "* I could write a function to extract the text values ... but the YouTubeTranscript API has already done this! How did I know it was there? I read [the documentation](https://github.com/jdepoix/youtube-transcript-api#using-formatters). This is a thoughtfully created package."
   ]
  },
  {
   "cell_type": "code",
   "execution_count": 10,
   "id": "b65d3553-7c7c-4d9a-a022-fba3ec271d5a",
   "metadata": {},
   "outputs": [],
   "source": [
    "from youtube_transcript_api.formatters import TextFormatter"
   ]
  },
  {
   "cell_type": "code",
   "execution_count": 11,
   "id": "7f2281e6-7f25-4da0-803b-7e973b1c5d3b",
   "metadata": {},
   "outputs": [],
   "source": [
    "formatter = TextFormatter()\n",
    "text = formatter.format_transcript(transcript)"
   ]
  },
  {
   "cell_type": "code",
   "execution_count": 12,
   "id": "9df13174-fc8f-4abf-819a-98565424a91a",
   "metadata": {},
   "outputs": [
    {
     "data": {
      "text/plain": [
       "str"
      ]
     },
     "execution_count": 12,
     "metadata": {},
     "output_type": "execute_result"
    }
   ],
   "source": [
    "type(text)"
   ]
  },
  {
   "cell_type": "code",
   "execution_count": 13,
   "id": "4c9bf9f9-dc7f-430d-b293-13d4a144e139",
   "metadata": {},
   "outputs": [
    {
     "data": {
      "text/plain": [
       "14895"
      ]
     },
     "execution_count": 13,
     "metadata": {},
     "output_type": "execute_result"
    }
   ],
   "source": [
    "len(text)"
   ]
  },
  {
   "cell_type": "code",
   "execution_count": 14,
   "id": "998686d1-cd67-4469-b930-15b98ca2be17",
   "metadata": {},
   "outputs": [
    {
     "data": {
      "text/plain": [
       "\"what's up everyone it's Sydney welcome\\nto process this is stage one the effort\\nso grab some dumbbell\""
      ]
     },
     "execution_count": 14,
     "metadata": {},
     "output_type": "execute_result"
    }
   ],
   "source": [
    "text[:100]"
   ]
  },
  {
   "cell_type": "markdown",
   "id": "43d9e493-e6ac-4f52-9213-c3389446b2e2",
   "metadata": {},
   "source": [
    "* This formatter takes each of the `text` values from the `transcript` and appends them together with newline whitespace, `\\n`, in between. I'll remove those."
   ]
  },
  {
   "cell_type": "code",
   "execution_count": 15,
   "id": "447bb6b9-a773-4f8d-ba9c-14d01e801dc8",
   "metadata": {},
   "outputs": [],
   "source": [
    "text = text.replace('\\n', ' ')"
   ]
  },
  {
   "cell_type": "code",
   "execution_count": 16,
   "id": "4ca2a5fd-d1a8-4f0f-95e6-aae7ca03c4e7",
   "metadata": {},
   "outputs": [
    {
     "data": {
      "text/plain": [
       "\"what's up everyone it's Sydney welcome to process this is stage one the effort so grab some dumbbell\""
      ]
     },
     "execution_count": 16,
     "metadata": {},
     "output_type": "execute_result"
    }
   ],
   "source": [
    "text[:100]"
   ]
  },
  {
   "cell_type": "markdown",
   "id": "de7f7a30-df68-4309-92a3-7370583f7d6f",
   "metadata": {},
   "source": [
    "* Now that I know how to get the transcript for each video, I'll write a function.\n",
    "\n",
    "* Because this is not part of the official YouTube API, I am going to be extra careful with these calls and not hammer the server with transcript requests. Maybe I'm being excessively cautious but I really don't want my YouTube access throttled."
   ]
  },
  {
   "cell_type": "code",
   "execution_count": 17,
   "id": "8c468216-84ab-4f3f-8714-10772e6edb1c",
   "metadata": {},
   "outputs": [],
   "source": [
    "import time"
   ]
  },
  {
   "cell_type": "code",
   "execution_count": 18,
   "id": "dca316d1-db0e-40af-9633-528b7f863cac",
   "metadata": {},
   "outputs": [],
   "source": [
    "def get_transcript(vid, sleep=3):\n",
    "    '''\n",
    "    Returns formatted transcript for vid \n",
    "    Pause for sleep seconds before returning the transcript for vid\n",
    "    '''\n",
    "    transcript = YouTubeTranscriptApi.get_transcript(vid)\n",
    "    text = formatter.format_transcript(transcript)\n",
    "    text = text.replace('\\n', ' ')\n",
    "    time.sleep(3)\n",
    "    return text"
   ]
  },
  {
   "cell_type": "markdown",
   "id": "4cf49353-5064-453d-9f41-cc7ba369418c",
   "metadata": {},
   "source": [
    "* Because of the pause in the function, this next cell takes a minute to run. If you are braver than I am, you can use a smaller value for the `sleep` parameter."
   ]
  },
  {
   "cell_type": "code",
   "execution_count": 19,
   "id": "90c931c3-c75e-4283-b932-3cfd9c7582be",
   "metadata": {},
   "outputs": [],
   "source": [
    "transcripts = vids.apply(get_transcript)"
   ]
  },
  {
   "cell_type": "markdown",
   "id": "1ddbe457-4e88-40ed-873f-2b2e40d4d198",
   "metadata": {},
   "source": [
    "* Just how long are these transcripts? Too long to read through them all 😬"
   ]
  },
  {
   "cell_type": "code",
   "execution_count": 20,
   "id": "fea9c9cd-3375-416c-b391-607c56352e88",
   "metadata": {},
   "outputs": [
    {
     "data": {
      "text/plain": [
       "date\n",
       "2023-01-02    14895\n",
       "2023-01-03    20794\n",
       "2023-01-04    16269\n",
       "2023-01-06    16901\n",
       "2023-01-07    23054\n",
       "2023-01-09    19550\n",
       "2023-01-10    15901\n",
       "2023-01-11    21334\n",
       "2023-01-13    20445\n",
       "2023-01-14    16964\n",
       "2023-01-16    19286\n",
       "2023-01-17    15765\n",
       "2023-01-18    22121\n",
       "2023-01-20    15751\n",
       "2023-01-21    24206\n",
       "2023-01-23    19954\n",
       "2023-01-24    18046\n",
       "2023-01-25    21238\n",
       "2023-01-27    19219\n",
       "2023-01-28    21330\n",
       "Name: vid, dtype: int64"
      ]
     },
     "execution_count": 20,
     "metadata": {},
     "output_type": "execute_result"
    }
   ],
   "source": [
    "transcripts.str.len()"
   ]
  },
  {
   "cell_type": "markdown",
   "id": "07389b0a-8f0f-4c5c-af2f-35a078aeed9b",
   "metadata": {},
   "source": [
    "[Return to top](#Get-transcripts-for-each-video)"
   ]
  },
  {
   "cell_type": "markdown",
   "id": "547f8be6-2a12-419f-93d0-32f57469395e",
   "metadata": {
    "tags": []
   },
   "source": [
    "### Extract the motivational talk from each transcript"
   ]
  },
  {
   "cell_type": "markdown",
   "id": "c132c36a-c127-43e9-9b69-8094fa925afd",
   "metadata": {},
   "source": [
    "* Because I have done (literally) hundreds of Sydney's workouts, I know that the motivational talk almost always begins after the phrase, \"You have made it to your cool down!\"\n",
    "\n",
    "* I explored the transcripts and discovered that sometimes this phrase is captured as \"cool down\" and sometimes as \"cooldown.\" \n",
    "\n",
    "* There are also occasions where Sydney uses a different phrase, like \"As the clock winds down to zero,\" or \"Before you leave this workout.\""
   ]
  },
  {
   "cell_type": "code",
   "execution_count": 21,
   "id": "12f0a1de-ce52-4efe-a16b-1d787d65081a",
   "metadata": {},
   "outputs": [],
   "source": [
    "phrases = ['to your cool down',\n",
    "           'to your cooldown',\n",
    "           'as the clock',\n",
    "           'leave this workout']"
   ]
  },
  {
   "cell_type": "code",
   "execution_count": 22,
   "id": "0baafaab-6e21-4de4-ad67-939d28dd0926",
   "metadata": {},
   "outputs": [],
   "source": [
    "def get_motivational_text(transcript):\n",
    "    '''\n",
    "    Return the motivational part of the transcript.\n",
    "    '''\n",
    "    text = transcript.lower()\n",
    "    for phrase in phrases:\n",
    "        loc = text.find(phrase)\n",
    "        if loc > 0:\n",
    "            motivation = text[loc+len(phrase):]\n",
    "            return motivation\n",
    "    return 'closing phrase not found'"
   ]
  },
  {
   "cell_type": "markdown",
   "id": "29858756-7010-438a-91f9-161d3d92640f",
   "metadata": {},
   "source": [
    "Test out the function:"
   ]
  },
  {
   "cell_type": "code",
   "execution_count": 23,
   "id": "4acf7365-7ba1-4e45-a219-b23aec8ad9c3",
   "metadata": {},
   "outputs": [
    {
     "data": {
      "text/plain": [
       "14895"
      ]
     },
     "execution_count": 23,
     "metadata": {},
     "output_type": "execute_result"
    }
   ],
   "source": [
    "test_transcript = transcripts[0]\n",
    "len(test_transcript)"
   ]
  },
  {
   "cell_type": "code",
   "execution_count": 24,
   "id": "1309acd4-24e4-42da-9616-eec12a126531",
   "metadata": {},
   "outputs": [
    {
     "data": {
      "text/plain": [
       "2133"
      ]
     },
     "execution_count": 24,
     "metadata": {},
     "output_type": "execute_result"
    }
   ],
   "source": [
    "motivation = get_motivational_text(test_transcript)\n",
    "len(motivation)"
   ]
  },
  {
   "cell_type": "markdown",
   "id": "6f9ef78c-b793-40e0-b5fb-318855e0c064",
   "metadata": {},
   "source": [
    "Looks like it worked, but just to be sure...I will give it a read."
   ]
  },
  {
   "cell_type": "code",
   "execution_count": 25,
   "id": "c5815435-96c8-48c1-85c1-b7a5471b69a8",
   "metadata": {},
   "outputs": [
    {
     "data": {
      "text/plain": [
       "\" big exhale shift your hips up and forward and before you head out if this is your first workout or your 100th workout with me i want you to make sure you're subscribed to the channel it helps youtube show more workouts from our channel to more people so that more people can have access to high quality fitness all over the world don't forget to grab your workout calendar as well in the description so you know what's coming it's a big month it's the start of a big series walk it back to your toes come on up bend your knees slowly come up to the top great job a lot of things very exciting this month cross your arm over your chest and as we get into this effort i want you to apply this everywhere okay not just in the workouts effort is a vigorous we're determined attempt at this lifestyle is what i want i want your mind to say i'm determined not i'm motivated not i'm in the mood not i'm new year's hype i'm determined i'm dedicated cross it over do not let this effort fade when the mood fades okay i know it's very easy to be hype at the beginning of the week or at the beginning of the month or new year healed a glute what we've decided now that you're here so we've made a commitment to each other we've given effort day one all we have this series is all about continuing showing up stopping never and moving forward to success or to your goal whatever your goal is good switch your legs effort is going to teach you that you can do more than you thought effort is going to show you that your current best is going to be your previous best all right we learn new skills and abilities where we take the time to put the work in not just when we're in the mood to really dive in but when we show up consistently because we're dedicated because it is about showing up and not giving up okay show up don't give up and let's continue to put in the effort together day number one crush before you head out make sure you're subscribed to the channel so we can keep growing together give this video a big thumbs up and i want you to comment below my effort is here i'll see you for the next workout bye everyone foreign [music]\""
      ]
     },
     "execution_count": 25,
     "metadata": {},
     "output_type": "execute_result"
    }
   ],
   "source": [
    "motivation"
   ]
  },
  {
   "cell_type": "markdown",
   "id": "0c959533-fc88-4a84-bd97-106a217df56f",
   "metadata": {},
   "source": [
    "* That's still a lot of words! Many of them are boilerplate filler or directional -- \"subscribe to the channel\", \"give this video a big thumbs up\", \"bend your knees slowly\".\n",
    "\n",
    "* This is good enough for me. I'm going to leave it to ChatGPT to filter out what I'm looking for.\n",
    "\n",
    "* Time to get all the motivations."
   ]
  },
  {
   "cell_type": "code",
   "execution_count": 26,
   "id": "cf2c7d75-b16c-4de7-a8b0-051f67911dc1",
   "metadata": {},
   "outputs": [],
   "source": [
    "motivations = transcripts.apply(get_motivational_text)"
   ]
  },
  {
   "cell_type": "code",
   "execution_count": 27,
   "id": "856ebe4b-efdd-47c3-a221-341e1b11ed35",
   "metadata": {},
   "outputs": [
    {
     "data": {
      "text/plain": [
       "date\n",
       "2023-01-02     big exhale shift your hips up and forward and...\n",
       "2023-01-03     amazing job rest back on your glutes you did ...\n",
       "2023-01-04     break deep breath nice wide stance hinge forw...\n",
       "2023-01-06     give me two minutes here nice wide stance exh...\n",
       "2023-01-07     amazing work give me two minutes do not leave...\n",
       "2023-01-09     hands on your knees do not leave [music] don'...\n",
       "2023-01-10     stay here don't move hands on your knees now ...\n",
       "2023-01-11     amazing work come on over hands and knees big...\n",
       "2023-01-13     hands down exhale and press up beautiful job ...\n",
       "2023-01-14     toss your rope to the side wide stance exhale...\n",
       "2023-01-16     amazing work don't leave yet come on down han...\n",
       "2023-01-17                             closing phrase not found\n",
       "2023-01-18     hands on your knees bend your legs just a lit...\n",
       "2023-01-20     amazing job hands up overhead you've made it ...\n",
       "2023-01-21     but give me time for that cool down shift you...\n",
       "2023-01-23     we've got a nice long cool down intentionally...\n",
       "2023-01-24     shift your hips back extend your arms forward...\n",
       "2023-01-25     stand up at the top pull heel to glute who ma...\n",
       "2023-01-27     no surprises that's it exhale put your hands ...\n",
       "2023-01-28     okay give me a couple minutes for your cool d...\n",
       "Name: vid, dtype: object"
      ]
     },
     "execution_count": 27,
     "metadata": {},
     "output_type": "execute_result"
    }
   ],
   "source": [
    "motivations"
   ]
  },
  {
   "cell_type": "markdown",
   "id": "26725286-f387-4ecf-83d7-736c09851657",
   "metadata": {},
   "source": [
    "* Hmm...The motivation for January 17 is missing!\n",
    "\n",
    "* Here's where you, data scientist, get to decide how to deal with missing data. How important is it to have this particular day's motivation? Do you want to impute the value, or can you drop the record?\n",
    "\n",
    "* My choice is to drop the record. There's enough motivation to go around with the other 19 videos.\n",
    "\n",
    "* Prepare the dataframe."
   ]
  },
  {
   "cell_type": "code",
   "execution_count": 28,
   "id": "080fda87-54ec-4379-81cd-eadf5532f967",
   "metadata": {},
   "outputs": [
    {
     "data": {
      "text/html": [
       "<div>\n",
       "<style scoped>\n",
       "    .dataframe tbody tr th:only-of-type {\n",
       "        vertical-align: middle;\n",
       "    }\n",
       "\n",
       "    .dataframe tbody tr th {\n",
       "        vertical-align: top;\n",
       "    }\n",
       "\n",
       "    .dataframe thead th {\n",
       "        text-align: right;\n",
       "    }\n",
       "</style>\n",
       "<table border=\"1\" class=\"dataframe\">\n",
       "  <thead>\n",
       "    <tr style=\"text-align: right;\">\n",
       "      <th></th>\n",
       "      <th>vid</th>\n",
       "      <th>motivation</th>\n",
       "    </tr>\n",
       "    <tr>\n",
       "      <th>date</th>\n",
       "      <th></th>\n",
       "      <th></th>\n",
       "    </tr>\n",
       "  </thead>\n",
       "  <tbody>\n",
       "    <tr>\n",
       "      <th>2023-01-02</th>\n",
       "      <td>qLKflJjWDi4</td>\n",
       "      <td>big exhale shift your hips up and forward and...</td>\n",
       "    </tr>\n",
       "    <tr>\n",
       "      <th>2023-01-03</th>\n",
       "      <td>NzIylrLhkJ4</td>\n",
       "      <td>amazing job rest back on your glutes you did ...</td>\n",
       "    </tr>\n",
       "    <tr>\n",
       "      <th>2023-01-04</th>\n",
       "      <td>A5kHPgAi3I0</td>\n",
       "      <td>break deep breath nice wide stance hinge forw...</td>\n",
       "    </tr>\n",
       "    <tr>\n",
       "      <th>2023-01-06</th>\n",
       "      <td>A67VMX9hlmc</td>\n",
       "      <td>give me two minutes here nice wide stance exh...</td>\n",
       "    </tr>\n",
       "    <tr>\n",
       "      <th>2023-01-07</th>\n",
       "      <td>lpv4RdNefyU</td>\n",
       "      <td>amazing work give me two minutes do not leave...</td>\n",
       "    </tr>\n",
       "    <tr>\n",
       "      <th>2023-01-09</th>\n",
       "      <td>m3mM77Nx5EQ</td>\n",
       "      <td>hands on your knees do not leave [music] don'...</td>\n",
       "    </tr>\n",
       "    <tr>\n",
       "      <th>2023-01-10</th>\n",
       "      <td>LF_XV7KwO5s</td>\n",
       "      <td>stay here don't move hands on your knees now ...</td>\n",
       "    </tr>\n",
       "    <tr>\n",
       "      <th>2023-01-11</th>\n",
       "      <td>oMZuE6a_5-I</td>\n",
       "      <td>amazing work come on over hands and knees big...</td>\n",
       "    </tr>\n",
       "    <tr>\n",
       "      <th>2023-01-13</th>\n",
       "      <td>Yvphe6Y6ejE</td>\n",
       "      <td>hands down exhale and press up beautiful job ...</td>\n",
       "    </tr>\n",
       "    <tr>\n",
       "      <th>2023-01-14</th>\n",
       "      <td>WbkHfqIuhcE</td>\n",
       "      <td>toss your rope to the side wide stance exhale...</td>\n",
       "    </tr>\n",
       "    <tr>\n",
       "      <th>2023-01-16</th>\n",
       "      <td>1fA7C2MEYCc</td>\n",
       "      <td>amazing work don't leave yet come on down han...</td>\n",
       "    </tr>\n",
       "    <tr>\n",
       "      <th>2023-01-17</th>\n",
       "      <td>5lXhLLaSQh8</td>\n",
       "      <td>closing phrase not found</td>\n",
       "    </tr>\n",
       "    <tr>\n",
       "      <th>2023-01-18</th>\n",
       "      <td>DhnmowHRYjk</td>\n",
       "      <td>hands on your knees bend your legs just a lit...</td>\n",
       "    </tr>\n",
       "    <tr>\n",
       "      <th>2023-01-20</th>\n",
       "      <td>2nTAPW_vhdI</td>\n",
       "      <td>amazing job hands up overhead you've made it ...</td>\n",
       "    </tr>\n",
       "    <tr>\n",
       "      <th>2023-01-21</th>\n",
       "      <td>-BfX87Tr32g</td>\n",
       "      <td>but give me time for that cool down shift you...</td>\n",
       "    </tr>\n",
       "    <tr>\n",
       "      <th>2023-01-23</th>\n",
       "      <td>Awpy_UbZBv4</td>\n",
       "      <td>we've got a nice long cool down intentionally...</td>\n",
       "    </tr>\n",
       "    <tr>\n",
       "      <th>2023-01-24</th>\n",
       "      <td>uq3ElaQPAVw</td>\n",
       "      <td>shift your hips back extend your arms forward...</td>\n",
       "    </tr>\n",
       "    <tr>\n",
       "      <th>2023-01-25</th>\n",
       "      <td>kU8M0Sc_WTQ</td>\n",
       "      <td>stand up at the top pull heel to glute who ma...</td>\n",
       "    </tr>\n",
       "    <tr>\n",
       "      <th>2023-01-27</th>\n",
       "      <td>CqR1Ivgpf3k</td>\n",
       "      <td>no surprises that's it exhale put your hands ...</td>\n",
       "    </tr>\n",
       "    <tr>\n",
       "      <th>2023-01-28</th>\n",
       "      <td>lijTEQmIo4o</td>\n",
       "      <td>okay give me a couple minutes for your cool d...</td>\n",
       "    </tr>\n",
       "  </tbody>\n",
       "</table>\n",
       "</div>"
      ],
      "text/plain": [
       "                    vid                                         motivation\n",
       "date                                                                      \n",
       "2023-01-02  qLKflJjWDi4   big exhale shift your hips up and forward and...\n",
       "2023-01-03  NzIylrLhkJ4   amazing job rest back on your glutes you did ...\n",
       "2023-01-04  A5kHPgAi3I0   break deep breath nice wide stance hinge forw...\n",
       "2023-01-06  A67VMX9hlmc   give me two minutes here nice wide stance exh...\n",
       "2023-01-07  lpv4RdNefyU   amazing work give me two minutes do not leave...\n",
       "2023-01-09  m3mM77Nx5EQ   hands on your knees do not leave [music] don'...\n",
       "2023-01-10  LF_XV7KwO5s   stay here don't move hands on your knees now ...\n",
       "2023-01-11  oMZuE6a_5-I   amazing work come on over hands and knees big...\n",
       "2023-01-13  Yvphe6Y6ejE   hands down exhale and press up beautiful job ...\n",
       "2023-01-14  WbkHfqIuhcE   toss your rope to the side wide stance exhale...\n",
       "2023-01-16  1fA7C2MEYCc   amazing work don't leave yet come on down han...\n",
       "2023-01-17  5lXhLLaSQh8                           closing phrase not found\n",
       "2023-01-18  DhnmowHRYjk   hands on your knees bend your legs just a lit...\n",
       "2023-01-20  2nTAPW_vhdI   amazing job hands up overhead you've made it ...\n",
       "2023-01-21  -BfX87Tr32g   but give me time for that cool down shift you...\n",
       "2023-01-23  Awpy_UbZBv4   we've got a nice long cool down intentionally...\n",
       "2023-01-24  uq3ElaQPAVw   shift your hips back extend your arms forward...\n",
       "2023-01-25  kU8M0Sc_WTQ   stand up at the top pull heel to glute who ma...\n",
       "2023-01-27  CqR1Ivgpf3k   no surprises that's it exhale put your hands ...\n",
       "2023-01-28  lijTEQmIo4o   okay give me a couple minutes for your cool d..."
      ]
     },
     "execution_count": 28,
     "metadata": {},
     "output_type": "execute_result"
    }
   ],
   "source": [
    "data = pd.DataFrame({'vid':vids,\n",
    "              'motivation':motivations\n",
    "             })\n",
    "data"
   ]
  },
  {
   "cell_type": "markdown",
   "id": "d6794914-92c6-4ba4-bd2a-9cb7eb6109a2",
   "metadata": {},
   "source": [
    "* I could hard code dropping the record for January 17 ... but future me will be really annoyed by this when I want motivations from, say, May 2024.\n",
    "\n",
    "* My solution is to define a function to use as a filter."
   ]
  },
  {
   "cell_type": "code",
   "execution_count": 29,
   "id": "014e23ae-c582-4406-bfac-1205be7e0816",
   "metadata": {},
   "outputs": [],
   "source": [
    "def has_motivation(motivation):\n",
    "    if motivation == 'closing phrase not found':\n",
    "        return False\n",
    "    return True"
   ]
  },
  {
   "cell_type": "code",
   "execution_count": 30,
   "id": "f3668697-e2ac-40a6-831d-63a80b40607e",
   "metadata": {},
   "outputs": [
    {
     "data": {
      "text/html": [
       "<div>\n",
       "<style scoped>\n",
       "    .dataframe tbody tr th:only-of-type {\n",
       "        vertical-align: middle;\n",
       "    }\n",
       "\n",
       "    .dataframe tbody tr th {\n",
       "        vertical-align: top;\n",
       "    }\n",
       "\n",
       "    .dataframe thead th {\n",
       "        text-align: right;\n",
       "    }\n",
       "</style>\n",
       "<table border=\"1\" class=\"dataframe\">\n",
       "  <thead>\n",
       "    <tr style=\"text-align: right;\">\n",
       "      <th></th>\n",
       "      <th>vid</th>\n",
       "      <th>motivation</th>\n",
       "    </tr>\n",
       "    <tr>\n",
       "      <th>date</th>\n",
       "      <th></th>\n",
       "      <th></th>\n",
       "    </tr>\n",
       "  </thead>\n",
       "  <tbody>\n",
       "    <tr>\n",
       "      <th>2023-01-02</th>\n",
       "      <td>qLKflJjWDi4</td>\n",
       "      <td>big exhale shift your hips up and forward and...</td>\n",
       "    </tr>\n",
       "    <tr>\n",
       "      <th>2023-01-03</th>\n",
       "      <td>NzIylrLhkJ4</td>\n",
       "      <td>amazing job rest back on your glutes you did ...</td>\n",
       "    </tr>\n",
       "    <tr>\n",
       "      <th>2023-01-04</th>\n",
       "      <td>A5kHPgAi3I0</td>\n",
       "      <td>break deep breath nice wide stance hinge forw...</td>\n",
       "    </tr>\n",
       "    <tr>\n",
       "      <th>2023-01-06</th>\n",
       "      <td>A67VMX9hlmc</td>\n",
       "      <td>give me two minutes here nice wide stance exh...</td>\n",
       "    </tr>\n",
       "    <tr>\n",
       "      <th>2023-01-07</th>\n",
       "      <td>lpv4RdNefyU</td>\n",
       "      <td>amazing work give me two minutes do not leave...</td>\n",
       "    </tr>\n",
       "    <tr>\n",
       "      <th>2023-01-09</th>\n",
       "      <td>m3mM77Nx5EQ</td>\n",
       "      <td>hands on your knees do not leave [music] don'...</td>\n",
       "    </tr>\n",
       "    <tr>\n",
       "      <th>2023-01-10</th>\n",
       "      <td>LF_XV7KwO5s</td>\n",
       "      <td>stay here don't move hands on your knees now ...</td>\n",
       "    </tr>\n",
       "    <tr>\n",
       "      <th>2023-01-11</th>\n",
       "      <td>oMZuE6a_5-I</td>\n",
       "      <td>amazing work come on over hands and knees big...</td>\n",
       "    </tr>\n",
       "    <tr>\n",
       "      <th>2023-01-13</th>\n",
       "      <td>Yvphe6Y6ejE</td>\n",
       "      <td>hands down exhale and press up beautiful job ...</td>\n",
       "    </tr>\n",
       "    <tr>\n",
       "      <th>2023-01-14</th>\n",
       "      <td>WbkHfqIuhcE</td>\n",
       "      <td>toss your rope to the side wide stance exhale...</td>\n",
       "    </tr>\n",
       "    <tr>\n",
       "      <th>2023-01-16</th>\n",
       "      <td>1fA7C2MEYCc</td>\n",
       "      <td>amazing work don't leave yet come on down han...</td>\n",
       "    </tr>\n",
       "    <tr>\n",
       "      <th>2023-01-18</th>\n",
       "      <td>DhnmowHRYjk</td>\n",
       "      <td>hands on your knees bend your legs just a lit...</td>\n",
       "    </tr>\n",
       "    <tr>\n",
       "      <th>2023-01-20</th>\n",
       "      <td>2nTAPW_vhdI</td>\n",
       "      <td>amazing job hands up overhead you've made it ...</td>\n",
       "    </tr>\n",
       "    <tr>\n",
       "      <th>2023-01-21</th>\n",
       "      <td>-BfX87Tr32g</td>\n",
       "      <td>but give me time for that cool down shift you...</td>\n",
       "    </tr>\n",
       "    <tr>\n",
       "      <th>2023-01-23</th>\n",
       "      <td>Awpy_UbZBv4</td>\n",
       "      <td>we've got a nice long cool down intentionally...</td>\n",
       "    </tr>\n",
       "    <tr>\n",
       "      <th>2023-01-24</th>\n",
       "      <td>uq3ElaQPAVw</td>\n",
       "      <td>shift your hips back extend your arms forward...</td>\n",
       "    </tr>\n",
       "    <tr>\n",
       "      <th>2023-01-25</th>\n",
       "      <td>kU8M0Sc_WTQ</td>\n",
       "      <td>stand up at the top pull heel to glute who ma...</td>\n",
       "    </tr>\n",
       "    <tr>\n",
       "      <th>2023-01-27</th>\n",
       "      <td>CqR1Ivgpf3k</td>\n",
       "      <td>no surprises that's it exhale put your hands ...</td>\n",
       "    </tr>\n",
       "    <tr>\n",
       "      <th>2023-01-28</th>\n",
       "      <td>lijTEQmIo4o</td>\n",
       "      <td>okay give me a couple minutes for your cool d...</td>\n",
       "    </tr>\n",
       "  </tbody>\n",
       "</table>\n",
       "</div>"
      ],
      "text/plain": [
       "                    vid                                         motivation\n",
       "date                                                                      \n",
       "2023-01-02  qLKflJjWDi4   big exhale shift your hips up and forward and...\n",
       "2023-01-03  NzIylrLhkJ4   amazing job rest back on your glutes you did ...\n",
       "2023-01-04  A5kHPgAi3I0   break deep breath nice wide stance hinge forw...\n",
       "2023-01-06  A67VMX9hlmc   give me two minutes here nice wide stance exh...\n",
       "2023-01-07  lpv4RdNefyU   amazing work give me two minutes do not leave...\n",
       "2023-01-09  m3mM77Nx5EQ   hands on your knees do not leave [music] don'...\n",
       "2023-01-10  LF_XV7KwO5s   stay here don't move hands on your knees now ...\n",
       "2023-01-11  oMZuE6a_5-I   amazing work come on over hands and knees big...\n",
       "2023-01-13  Yvphe6Y6ejE   hands down exhale and press up beautiful job ...\n",
       "2023-01-14  WbkHfqIuhcE   toss your rope to the side wide stance exhale...\n",
       "2023-01-16  1fA7C2MEYCc   amazing work don't leave yet come on down han...\n",
       "2023-01-18  DhnmowHRYjk   hands on your knees bend your legs just a lit...\n",
       "2023-01-20  2nTAPW_vhdI   amazing job hands up overhead you've made it ...\n",
       "2023-01-21  -BfX87Tr32g   but give me time for that cool down shift you...\n",
       "2023-01-23  Awpy_UbZBv4   we've got a nice long cool down intentionally...\n",
       "2023-01-24  uq3ElaQPAVw   shift your hips back extend your arms forward...\n",
       "2023-01-25  kU8M0Sc_WTQ   stand up at the top pull heel to glute who ma...\n",
       "2023-01-27  CqR1Ivgpf3k   no surprises that's it exhale put your hands ...\n",
       "2023-01-28  lijTEQmIo4o   okay give me a couple minutes for your cool d..."
      ]
     },
     "execution_count": 30,
     "metadata": {},
     "output_type": "execute_result"
    }
   ],
   "source": [
    "filt = data['motivation'].apply(has_motivation)\n",
    "data = data[filt]\n",
    "data"
   ]
  },
  {
   "cell_type": "markdown",
   "id": "05b48582-c467-46f5-854f-73abb54e3423",
   "metadata": {},
   "source": [
    "[Return to top](#Get-transcripts-for-each-video)"
   ]
  },
  {
   "cell_type": "markdown",
   "id": "d6aff7e9-2d8c-480a-b9b1-49e146fca52f",
   "metadata": {
    "tags": []
   },
   "source": [
    "### Save dataframe to a file "
   ]
  },
  {
   "cell_type": "markdown",
   "id": "3c75d958-7d30-4c15-be09-711dc55d9f24",
   "metadata": {},
   "source": [
    "* This is ready to save! In the next notebook, I will ask ChatGPT to summarize these motivational talks."
   ]
  },
  {
   "cell_type": "code",
   "execution_count": 31,
   "id": "b5d928db-128c-4709-80ad-a47384b6c952",
   "metadata": {},
   "outputs": [],
   "source": [
    "data.to_csv('../data/2023-01-effort-motivations.csv')"
   ]
  },
  {
   "cell_type": "markdown",
   "id": "b477d29c-7f53-4c47-9e50-3f562b691abf",
   "metadata": {},
   "source": [
    "[Return to top](#Get-transcripts-for-each-video)"
   ]
  },
  {
   "cell_type": "code",
   "execution_count": null,
   "id": "9b530598-05df-4bae-9f80-c8e66d5a3d7e",
   "metadata": {},
   "outputs": [],
   "source": []
  }
 ],
 "metadata": {
  "kernelspec": {
   "display_name": "Python 3 (ipykernel)",
   "language": "python",
   "name": "python3"
  },
  "language_info": {
   "codemirror_mode": {
    "name": "ipython",
    "version": 3
   },
   "file_extension": ".py",
   "mimetype": "text/x-python",
   "name": "python",
   "nbconvert_exporter": "python",
   "pygments_lexer": "ipython3",
   "version": "3.10.8"
  }
 },
 "nbformat": 4,
 "nbformat_minor": 5
}
