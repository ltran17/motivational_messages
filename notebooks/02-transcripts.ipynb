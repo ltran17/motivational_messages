{
 "cells": [
  {
   "cell_type": "markdown",
   "id": "53cd056a-8123-4a44-974a-379eb5edab58",
   "metadata": {},
   "source": [
    "# Step 2: Get transcripts for each video\n",
    "\n",
    "1. Acquire transcripts for each video\n",
    "2. Isolate the motivational talk from each transcript\n",
    "3. Save dataframe to a file (if you want to get fancy, you could create a database)"
   ]
  },
  {
   "cell_type": "code",
   "execution_count": null,
   "id": "15e9330c-257d-4a7f-b3f2-c7ff082d4da8",
   "metadata": {},
   "outputs": [],
   "source": []
  }
 ],
 "metadata": {
  "kernelspec": {
   "display_name": "Python 3 (ipykernel)",
   "language": "python",
   "name": "python3"
  },
  "language_info": {
   "codemirror_mode": {
    "name": "ipython",
    "version": 3
   },
   "file_extension": ".py",
   "mimetype": "text/x-python",
   "name": "python",
   "nbconvert_exporter": "python",
   "pygments_lexer": "ipython3",
   "version": "3.10.8"
  }
 },
 "nbformat": 4,
 "nbformat_minor": 5
}
