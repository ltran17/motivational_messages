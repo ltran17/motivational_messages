{
 "cells": [
  {
   "cell_type": "markdown",
   "id": "866f3af5-3e07-47e6-a577-54f37a614c64",
   "metadata": {},
   "source": [
    "# Prep work\n",
    "\n",
    "If you are not familiar with setting up access to data through an API, this will probably be the most frustrating part of this entire exercise. The following directions are *not* a step-by-step how to. I could not do better than the linked documentation! Rather they are a general guide to what you need to do to set yourself up to answer your own questions.\n",
    "\n",
    "This reflects a real-world scenario where you need to acquire data from some source that you haven't used before. No one will hold your hand through the process, and you will probably do a lot of googling as you get set up.\n",
    "\n",
    "If you skip the prep work, you will be limited to reading the notebooks in this guide without running them yourself. More importantly, if you want to pursue your own YouTube- and ChatGPT-based project (and not just create motivational messages), you must do this work. So...get to it! And enjoy the process."
   ]
  },
  {
   "cell_type": "markdown",
   "id": "7f7d00fa-c392-40c2-81c2-c79d14ef742e",
   "metadata": {},
   "source": [
    "### Set up access to YouTube's Data API¶\n",
    "\n",
    "YouTube's Data API provides documentation, a sandbox, and a variety of language examples. This is a good one to practice the skill of learning how to use an API. Your pre-work is to set up your own access.\n",
    "\n",
    "1. Follow the steps on with [YouTube's Data API Overview](https://developers.google.com/youtube/v3/getting-started) to obtain an API key. You will need a Google Developer account.\n",
    "\n",
    "2. Then follow the steps on [YouTube's Python Quickstart page](https://developers.google.com/youtube/v3/quickstart/python).\n",
    "\n",
    "\n",
    "Once you get your API key, put it somewhere safe! **Do not hard code your key into your code.** You can get fancy and use a key manager, but if you are relatively new to coding, put it in a file somewhere that will NOT be pushed to git. \n",
    "\n",
    "My two step method is maybe not the best way -- storing keys in a config folder in my project and adding that folder name to .gitignore -- but it works.\n"
   ]
  },
  {
   "cell_type": "code",
   "execution_count": 2,
   "id": "d1b9fbf7-77b0-4382-9e1a-10a5f884154d",
   "metadata": {},
   "outputs": [],
   "source": [
    "with open('../config/youtube_api') as file:\n",
    "    YOUTUBE_KEY = file.readline()"
   ]
  },
  {
   "cell_type": "markdown",
   "id": "7ac84858-30ec-4c5a-9af5-bd977a9d5972",
   "metadata": {},
   "source": [
    "Now my key is safely loaded into memory, but no one reading this notebook can see the actual value. Another way to do this would be with an environment variable. If you are dealing with keys at work, please follow the best practices of your workplace."
   ]
  },
  {
   "cell_type": "markdown",
   "id": "e085b782-6f41-4a89-b4ab-47bde3d3b061",
   "metadata": {},
   "source": [
    "### Set up access to ChatGPT with OpenAI's API"
   ]
  },
  {
   "cell_type": "markdown",
   "id": "8df3ab6c-ffae-4b36-baf3-8314cb2b2d56",
   "metadata": {},
   "source": [
    "I found OpenAI's API documentation easier to navigate than YouTube's. The documentation includes examples and a playground. Take some time now to get yourself set up.\n",
    "\n",
    "1. [Get started with OpenAI's API](https://openai.com/api/) by creating an account.\n",
    "\n",
    "2. You will find instructions to create your key in the [Build Your Application section](https://platform.openai.com/docs/quickstart/build-your-application). **As you did for your YouTube API key, save your OpenAI key somewhere safe.** Remember not to copy and paste the value into your code!\n",
    "\n",
    "3. Follow the [Text Completion guide](https://platform.openai.com/docs/guides/completion). As you read through, you will see \"Open in Playground\" prompts. Click on some of these to see how to formulate a prompt and request a response. You can see code examples in Python, node.js, curl, and json.\n"
   ]
  },
  {
   "cell_type": "markdown",
   "id": "019298b6-5ad6-4ae9-8790-85a772a34b47",
   "metadata": {},
   "source": [
    "### Play\n",
    "\n",
    "Take advantage of the sandboxes and play! Formulate your own questions about YouTube data or ChatGPT prompts and try to answer them. Explore the APIs and learn about what you can do with them.\n",
    "\n",
    "Some ideas to get you started:\n",
    "1. What is the channel id for your favorite YouTube content creator?\n",
    "2. What is the function for listing the videos by a content creator, and what are the required parameters?\n",
    "3. For ChatGPT, what effect does the changing the `temperature` parameter have on the response to a `Completion.create()` call? What is the range of valid `temperature` values?\n",
    "4. What are different use cases for ChatGPT's various language models?\n"
   ]
  },
  {
   "cell_type": "code",
   "execution_count": null,
   "id": "583cffb5-8f6d-4284-a355-bbcc24010ee7",
   "metadata": {},
   "outputs": [],
   "source": []
  }
 ],
 "metadata": {
  "kernelspec": {
   "display_name": "Python 3 (ipykernel)",
   "language": "python",
   "name": "python3"
  },
  "language_info": {
   "codemirror_mode": {
    "name": "ipython",
    "version": 3
   },
   "file_extension": ".py",
   "mimetype": "text/x-python",
   "name": "python",
   "nbconvert_exporter": "python",
   "pygments_lexer": "ipython3",
   "version": "3.10.8"
  }
 },
 "nbformat": 4,
 "nbformat_minor": 5
}
