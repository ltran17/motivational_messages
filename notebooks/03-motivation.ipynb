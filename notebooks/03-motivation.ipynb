{
 "cells": [
  {
   "cell_type": "markdown",
   "id": "9cb2cbfc-85f7-4933-8b9a-cae307fa2333",
   "metadata": {},
   "source": [
    "# Extract motivational messages \n",
    "\n",
    "I conceived of this project the same week as ChatGPT3 exploded into conversations at work, online, and at home. While my original plan had been to practice my NLP skills, I switched my goal to learn how to use this new tool.\n",
    "\n",
    "Note: Section links work in JupyterLab but do not work when this notebook is viewed in GitHub.\n",
    "\n",
    "1.  [Load](#Load-transcripts) transcripts from the output of the Notebook 02\n",
    "2. [Interpret](#Interpret-response-from-ChatGPT3) response from ChatGPT3\n",
    "3. [Play](#Play-with-the-prompt) with the prompt to get satisfactory response\n",
    "4. [Summarize](#Summarize-motivational-talks) motivational talks for each video\n",
    "5. [Save](#Save-the-motivational-messages) the motivational messages\n",
    "6. [Consider](#Next-steps) next steps\n",
    "\n"
   ]
  },
  {
   "cell_type": "markdown",
   "id": "8d9327d1-11dc-4fb5-bd0e-94ed57b3ba3e",
   "metadata": {
    "jp-MarkdownHeadingCollapsed": true,
    "tags": []
   },
   "source": [
    "### Load transcripts"
   ]
  },
  {
   "cell_type": "code",
   "execution_count": 1,
   "id": "b53bf816-971c-47a9-9e69-42109aa9e084",
   "metadata": {},
   "outputs": [],
   "source": [
    "import pandas as pd"
   ]
  },
  {
   "cell_type": "markdown",
   "id": "f2b0e0e5-e633-4298-881f-791cc6ccdd45",
   "metadata": {},
   "source": [
    "* I do not push data to code repositories, and encourage you to do the same. To keep everything organized on my machine, I have a `data` folder in my project and include this folder in the project's `.gitignore` file."
   ]
  },
  {
   "cell_type": "code",
   "execution_count": 2,
   "id": "b0e05bae-dcd3-42e9-bbfc-bc66293b1313",
   "metadata": {},
   "outputs": [],
   "source": [
    "filename = '../data/2023-01-effort-motivations.csv'"
   ]
  },
  {
   "cell_type": "code",
   "execution_count": 12,
   "id": "2b6ab805-06d1-46cd-a970-ee744b438398",
   "metadata": {},
   "outputs": [
    {
     "data": {
      "text/html": [
       "<div>\n",
       "<style scoped>\n",
       "    .dataframe tbody tr th:only-of-type {\n",
       "        vertical-align: middle;\n",
       "    }\n",
       "\n",
       "    .dataframe tbody tr th {\n",
       "        vertical-align: top;\n",
       "    }\n",
       "\n",
       "    .dataframe thead th {\n",
       "        text-align: right;\n",
       "    }\n",
       "</style>\n",
       "<table border=\"1\" class=\"dataframe\">\n",
       "  <thead>\n",
       "    <tr style=\"text-align: right;\">\n",
       "      <th></th>\n",
       "      <th>date</th>\n",
       "      <th>vid</th>\n",
       "      <th>motivation</th>\n",
       "    </tr>\n",
       "  </thead>\n",
       "  <tbody>\n",
       "    <tr>\n",
       "      <th>0</th>\n",
       "      <td>2023-01-02</td>\n",
       "      <td>qLKflJjWDi4</td>\n",
       "      <td>big exhale shift your hips up and forward and...</td>\n",
       "    </tr>\n",
       "    <tr>\n",
       "      <th>1</th>\n",
       "      <td>2023-01-03</td>\n",
       "      <td>NzIylrLhkJ4</td>\n",
       "      <td>amazing job rest back on your glutes you did ...</td>\n",
       "    </tr>\n",
       "    <tr>\n",
       "      <th>2</th>\n",
       "      <td>2023-01-04</td>\n",
       "      <td>A5kHPgAi3I0</td>\n",
       "      <td>break deep breath nice wide stance hinge forw...</td>\n",
       "    </tr>\n",
       "    <tr>\n",
       "      <th>3</th>\n",
       "      <td>2023-01-06</td>\n",
       "      <td>A67VMX9hlmc</td>\n",
       "      <td>give me two minutes here nice wide stance exh...</td>\n",
       "    </tr>\n",
       "    <tr>\n",
       "      <th>4</th>\n",
       "      <td>2023-01-07</td>\n",
       "      <td>lpv4RdNefyU</td>\n",
       "      <td>amazing work give me two minutes do not leave...</td>\n",
       "    </tr>\n",
       "  </tbody>\n",
       "</table>\n",
       "</div>"
      ],
      "text/plain": [
       "        date          vid                                         motivation\n",
       "0 2023-01-02  qLKflJjWDi4   big exhale shift your hips up and forward and...\n",
       "1 2023-01-03  NzIylrLhkJ4   amazing job rest back on your glutes you did ...\n",
       "2 2023-01-04  A5kHPgAi3I0   break deep breath nice wide stance hinge forw...\n",
       "3 2023-01-06  A67VMX9hlmc   give me two minutes here nice wide stance exh...\n",
       "4 2023-01-07  lpv4RdNefyU   amazing work give me two minutes do not leave..."
      ]
     },
     "execution_count": 12,
     "metadata": {},
     "output_type": "execute_result"
    }
   ],
   "source": [
    "data = pd.read_csv(filename, parse_dates=['date'])\n",
    "data.head()"
   ]
  },
  {
   "cell_type": "markdown",
   "id": "4f6fc44a-0791-4024-860b-141d17dee2e4",
   "metadata": {},
   "source": [
    "[Return to top](#Extract-motivational-messages)"
   ]
  },
  {
   "cell_type": "markdown",
   "id": "a291d59b-5539-4111-a323-5da5ccf21ea3",
   "metadata": {
    "jp-MarkdownHeadingCollapsed": true,
    "tags": []
   },
   "source": [
    "### Interpret response from ChatGPT3"
   ]
  },
  {
   "cell_type": "markdown",
   "id": "c2f9a3dc-9cc0-4ca7-90b2-cdca9b199b91",
   "metadata": {},
   "source": [
    "* ChatGPT3 has multiple language models available for use. It looks like [Davinci](https://platform.openai.com/docs/models/davinci) will be the right one for this task of interpreting and summarizing.\n",
    "\n",
    "* Different models will give different results. The creators of an endless, AI-generated, Seinfeld parody [learned this the hard way](https://wapo.st/3I7BSHW) when they switched from Davinci to Curie.\n",
    "\n",
    "* For this project, I am not worried about generating hateful or harming content. I am taking note of [OpenAI's moderation tools](https://platform.openai.com/docs/guides/moderation/overview) for future work.\n",
    "\n",
    "* The next three cells are set up."
   ]
  },
  {
   "cell_type": "code",
   "execution_count": 13,
   "id": "19e19897-6e74-4a8a-84f1-71287aa51fe5",
   "metadata": {},
   "outputs": [],
   "source": [
    "with open('../config/chat_gpt3_api') as file:\n",
    "    CHAT_KEY = file.readline()"
   ]
  },
  {
   "cell_type": "markdown",
   "id": "8e222c7b-fcb2-446c-b4c9-e8047186a4ea",
   "metadata": {},
   "source": [
    "* Even more important than not pushing data to a code repository is to **never push a key to a code repository**! I have stored the keys in a folder called `config` and added this folder to the project's `.gitignore` file. There are other ways to accomplish this, choose your preferred method."
   ]
  },
  {
   "cell_type": "code",
   "execution_count": 14,
   "id": "34fa6b4b-8354-48d8-bd30-a4453aad264e",
   "metadata": {},
   "outputs": [],
   "source": [
    "import openai\n",
    "openai.api_key = CHAT_KEY\n",
    "models = openai.Model.list()"
   ]
  },
  {
   "cell_type": "code",
   "execution_count": 18,
   "id": "24ae7768-3bb0-4cbe-b677-b3a7c9126dff",
   "metadata": {},
   "outputs": [
    {
     "data": {
      "text/plain": [
       "' big exhale shift your hips up and forward and before you head out if this is your first workout or '"
      ]
     },
     "execution_count": 18,
     "metadata": {},
     "output_type": "execute_result"
    }
   ],
   "source": [
    "test_text = data.loc[0,'motivation']\n",
    "test_text[:100]"
   ]
  },
  {
   "cell_type": "markdown",
   "id": "d1099cd5-abe5-48a6-a5ce-f3aa3010e069",
   "metadata": {},
   "source": [
    "* The template for the function in the next cell comes from OpenAI. If you used the playground when you were setting up API access, you already encountered the `temperature` and `max_tokens` parameters.\n",
    "\n",
    "* I interpret `temperature` as a creativity setting. Set to 0, multiple calls with the same text will return similar (if not identical) responses. Set to 1, the model gets very creative! \n",
    "\n",
    "* You can find no better explanation of OpenAI's tokens than the [documentation](https://help.openai.com/en/articles/4936856-what-are-tokens-and-how-to-count-them) from the source. If you want a more general discussion of tokens and tokenization, send \"nlp tokens\" through your favorite search engine to learn more."
   ]
  },
  {
   "cell_type": "code",
   "execution_count": 26,
   "id": "9895afab-050c-4f40-962d-2ae4291fa650",
   "metadata": {},
   "outputs": [],
   "source": [
    "def get_response(text):\n",
    "    prompt = 'extract the motivational message from the following text and summarize in three sentences: '\n",
    "    response = openai.Completion.create(\n",
    "        model='text-davinci-003',\n",
    "        prompt=prompt+text,\n",
    "        temperature=0.7,\n",
    "        max_tokens=25\n",
    "    )\n",
    "    return response"
   ]
  },
  {
   "cell_type": "code",
   "execution_count": 28,
   "id": "6d326011-2ebe-4278-8f2a-b0d94a1936c5",
   "metadata": {},
   "outputs": [
    {
     "data": {
      "text/plain": [
       "<OpenAIObject text_completion id=cmpl-6hfQV5TTlYKCopTdgWTXgb5zauFPo at 0x7fbf50bd6160> JSON: {\n",
       "  \"choices\": [\n",
       "    {\n",
       "      \"finish_reason\": \"length\",\n",
       "      \"index\": 0,\n",
       "      \"logprobs\": null,\n",
       "      \"text\": \"\\n\\nThis motivational message encourages applying effort not just when we're in the mood, but when we show up consistently. It\"\n",
       "    }\n",
       "  ],\n",
       "  \"created\": 1675865367,\n",
       "  \"id\": \"cmpl-6hfQV5TTlYKCopTdgWTXgb5zauFPo\",\n",
       "  \"model\": \"text-davinci-003\",\n",
       "  \"object\": \"text_completion\",\n",
       "  \"usage\": {\n",
       "    \"completion_tokens\": 25,\n",
       "    \"prompt_tokens\": 464,\n",
       "    \"total_tokens\": 489\n",
       "  }\n",
       "}"
      ]
     },
     "execution_count": 28,
     "metadata": {},
     "output_type": "execute_result"
    }
   ],
   "source": [
    "response = get_response(test_text)\n",
    "response"
   ]
  },
  {
   "cell_type": "markdown",
   "id": "e8725e36-36fa-4eea-9b4c-3285ca0d0626",
   "metadata": {},
   "source": [
    "* For a first pass, this is a pretty good summary! Let me see how to extract it from the response."
   ]
  },
  {
   "cell_type": "code",
   "execution_count": 32,
   "id": "174fd074-f689-4fc4-b7e7-61b37c0a02fd",
   "metadata": {},
   "outputs": [
    {
     "data": {
      "text/plain": [
       "\"\\n\\nThis motivational message encourages applying effort not just when we're in the mood, but when we show up consistently. It\""
      ]
     },
     "execution_count": 32,
     "metadata": {},
     "output_type": "execute_result"
    }
   ],
   "source": [
    "response['choices'][0]['text']"
   ]
  },
  {
   "cell_type": "markdown",
   "id": "7b5ee18a-41e9-4393-9b1f-d350959baaeb",
   "metadata": {},
   "source": [
    "[Return to top](#Extract-motivational-messages)"
   ]
  },
  {
   "cell_type": "markdown",
   "id": "2f106885-d587-4bac-b54e-e9c4df0d77ee",
   "metadata": {
    "tags": []
   },
   "source": [
    "### Play with the prompt\n",
    "\n",
    "* I notice that it cut off the summary -- no doubt because I limited the `max_tokens` to 25.\n",
    "\n",
    "* I also notice that it really sounds like a summary! I would rather it sound like a motivational message. I need to adjust the prompt."
   ]
  },
  {
   "cell_type": "code",
   "execution_count": 33,
   "id": "e30984db-a7b3-439c-a2b0-87fe2ed522d7",
   "metadata": {},
   "outputs": [],
   "source": [
    "def get_response(text):\n",
    "    prompt = 'extract the motivational message from the following text in three sentences: '\n",
    "    response = openai.Completion.create(\n",
    "        model='text-davinci-003',\n",
    "        prompt=prompt+text,\n",
    "        temperature=0.7,\n",
    "        max_tokens=100\n",
    "    )\n",
    "    return response"
   ]
  },
  {
   "cell_type": "code",
   "execution_count": 34,
   "id": "82fa4df3-bf64-4a4d-9587-d1f246731831",
   "metadata": {},
   "outputs": [
    {
     "data": {
      "text/plain": [
       "'\\n\\nEffort is an important part of achieving success and making progress towards your goals. Showing up and not giving up is the key to making progress and reaching your goals. Subscribe to the channel to help more people have access to high quality fitness and stay dedicated to putting in the effort every day.'"
      ]
     },
     "execution_count": 34,
     "metadata": {},
     "output_type": "execute_result"
    }
   ],
   "source": [
    "response = get_response(test_text)\n",
    "response['choices'][0]['text']"
   ]
  },
  {
   "cell_type": "markdown",
   "id": "ef38e1e1-9543-422c-9bb3-6ea91da08582",
   "metadata": {},
   "source": [
    "* This sounds better! However, the model is interpreting some of the boilerplate text as motivational. Adjust the prompt further."
   ]
  },
  {
   "cell_type": "code",
   "execution_count": 42,
   "id": "3902f51d-c571-47ca-a433-93d2146a429c",
   "metadata": {},
   "outputs": [],
   "source": [
    "def get_response(text):\n",
    "    directions = 'extract the motivational message from the following text in three sentences: '\n",
    "    conditions = 'Ignore sentences that direct viewers to subscribe, like, buy, or comment.'\n",
    "    response = openai.Completion.create(\n",
    "        model='text-davinci-003',\n",
    "        prompt=directions+text+conditions,\n",
    "        temperature=0.7,\n",
    "        max_tokens=100\n",
    "    )\n",
    "    return response"
   ]
  },
  {
   "cell_type": "code",
   "execution_count": 36,
   "id": "f5e716e3-7d6c-42cd-81ec-155f52b50914",
   "metadata": {},
   "outputs": [
    {
     "data": {
      "text/plain": [
       "\" Motivation comes from within, so remember to stay determined and dedicated to your goals. Show up and never give up, even when you don't feel motivated. Effort will show you that you can do more than you thought and help you reach your goals.\""
      ]
     },
     "execution_count": 36,
     "metadata": {},
     "output_type": "execute_result"
    }
   ],
   "source": [
    "response = get_response(test_text)\n",
    "response['choices'][0]['text']"
   ]
  },
  {
   "cell_type": "markdown",
   "id": "84aa865a-0934-43de-abf9-be84442cd67f",
   "metadata": {},
   "source": [
    "* Not bad! This sounds almost like Sydney herself. I am going to move on with the `get_response` function as defined above.\n",
    "\n",
    "* Before I get the motivations from all of the videos, I'll write a couple of functions streamline this process."
   ]
  },
  {
   "cell_type": "code",
   "execution_count": 37,
   "id": "453c2783-866e-4ce6-9f1f-accc2576b8f8",
   "metadata": {},
   "outputs": [],
   "source": [
    "def extract_text(response):\n",
    "    '''\n",
    "    Return the text from the response object\n",
    "    '''\n",
    "    text = response['choices'][0]['text']\n",
    "    return text"
   ]
  },
  {
   "cell_type": "markdown",
   "id": "9a239b80-d20e-4362-90eb-a755a2bfb512",
   "metadata": {},
   "source": [
    "* Also, I will be polite by pausing between requests. "
   ]
  },
  {
   "cell_type": "code",
   "execution_count": 38,
   "id": "4840294c-0898-4ab2-93e3-27eaebfb5caf",
   "metadata": {},
   "outputs": [],
   "source": [
    "import time"
   ]
  },
  {
   "cell_type": "code",
   "execution_count": 39,
   "id": "ccb4df90-47fe-402e-8b20-db4c0ceb04f0",
   "metadata": {},
   "outputs": [],
   "source": [
    "def get_motivation(text, sleep_time=3):\n",
    "    '''\n",
    "    Return the extracted motivation from the text, pausing for sleep_time seconds after request.\n",
    "    '''\n",
    "    response = get_response(text)\n",
    "    motivation = extract_text(response)\n",
    "    time.sleep(sleep_time)\n",
    "    return motivation"
   ]
  },
  {
   "cell_type": "markdown",
   "id": "3c3e3ebb-c109-410d-8a83-231e751b08f2",
   "metadata": {},
   "source": [
    "* Test this out..."
   ]
  },
  {
   "cell_type": "code",
   "execution_count": 40,
   "id": "c88d2a3f-8515-49bc-bddb-1333f9d689c6",
   "metadata": {},
   "outputs": [
    {
     "data": {
      "text/plain": [
       "\" Motivate yourself to stay dedicated, consistent, and determined with your lifestyle or goal. Put in the effort and don't give up - even when you're not feeling motivated or in the mood. Show up and keep growing together.\""
      ]
     },
     "execution_count": 40,
     "metadata": {},
     "output_type": "execute_result"
    }
   ],
   "source": [
    "get_motivation(test_text)"
   ]
  },
  {
   "cell_type": "markdown",
   "id": "53e4460e-e60f-4c08-b0af-682c25b4ebef",
   "metadata": {},
   "source": [
    "[Return to top](#Extract-motivational-messages)"
   ]
  },
  {
   "cell_type": "markdown",
   "id": "05e94798-8fcd-41a1-98c4-20ff03daed22",
   "metadata": {
    "tags": []
   },
   "source": [
    "### Summarize motivational talks\n",
    "\n",
    "* Alright! I am ready to get the motivations for the month! \n",
    "\n",
    "* This next call will take a minute because of (1) the sleep parameter and (2) however busy the ChatGPT3 servers are. In fact...the first time I ran the next cell, it returned a rate limit error. That's what happens when the continental US is awake and pinging the servers at 11 am Eastern. I had more success at 4 pm."
   ]
  },
  {
   "cell_type": "code",
   "execution_count": 44,
   "id": "b0997c4f-6730-45b6-b837-d5a628b37a46",
   "metadata": {},
   "outputs": [
    {
     "data": {
      "text/plain": [
       "' Motivate yourself to stay dedicated and consistent with your goals by showing up and not giving up. Effort is a vigorous and determined attempt to achieve your goals and can teach you that you can do more than you thought. With consistent effort, you will be able to improve yourself and reach success.'"
      ]
     },
     "execution_count": 44,
     "metadata": {},
     "output_type": "execute_result"
    }
   ],
   "source": [
    "motivations = data['motivation'].apply(get_motivation)\n",
    "motivations[0]"
   ]
  },
  {
   "cell_type": "markdown",
   "id": "a507b469-1bc7-4bcd-995a-5449bc37ac4c",
   "metadata": {},
   "source": [
    "* Motivation verging on platitudes. It's ok! "
   ]
  },
  {
   "cell_type": "code",
   "execution_count": 45,
   "id": "29bf0356-5e47-4303-842c-2b6334e2eea6",
   "metadata": {},
   "outputs": [
    {
     "data": {
      "text/plain": [
       "0      Motivate yourself to stay dedicated and consi...\n",
       "1      \\n\\nYou did an amazing job today! Don't forge...\n",
       "2      Motivational message: Taking the effort to pr...\n",
       "3     \\n\\nMotivation is a lifelong journey, and it i...\n",
       "4     \\n\\nNever give up, even in times of difficulty...\n",
       "5     \\n\\nMotivation comes from pushing yourself to ...\n",
       "6      Motivational message: Dedicate your time to y...\n",
       "7     \\n\\nMotivation comes from within and is based ...\n",
       "8      Give yourself permission to be proud of yours...\n",
       "9     \\n\\nNo matter what is tough, you did incredibl...\n",
       "10    \\n\\nConsistency is always your first priority ...\n",
       "11     \\n\\nTake small steps towards your goals and d...\n",
       "12     Motivational message: Staying consistent and ...\n",
       "13    \\n\\nIt is no coincidence that you are here tod...\n",
       "14     \\n\\nThis motivational message encourages you ...\n",
       "15    \\n\\nCommitting to your goals is key to making ...\n",
       "16    \\n\\nIt is not necessary to exhaust yourself to...\n",
       "17    \\n\\nEncouragement to appreciate your effort an...\n",
       "18    \\n\\nMotivation is key to achieving success. Co...\n",
       "Name: motivation, dtype: object"
      ]
     },
     "execution_count": 45,
     "metadata": {},
     "output_type": "execute_result"
    }
   ],
   "source": [
    "motivations"
   ]
  },
  {
   "cell_type": "markdown",
   "id": "1c980ecb-fd6c-427b-bd4e-00206972ba4c",
   "metadata": {},
   "source": [
    "* I see that my prompt to create a motivational message resulted in multiple texts with the word \"motivation.\" In future iterations, I might edit the prompt.\n",
    "\n",
    "* I also notice inconsistent newlines -- some text was returned with this whitespace, and some was not. I'm going to clean that up."
   ]
  },
  {
   "cell_type": "code",
   "execution_count": 49,
   "id": "759eab0a-78c6-4bd4-99fa-954f3534ef16",
   "metadata": {},
   "outputs": [],
   "source": [
    "motivations = motivations.str.strip()"
   ]
  },
  {
   "cell_type": "code",
   "execution_count": 65,
   "id": "ef72b6ef-1263-4ade-80eb-08769f8c2783",
   "metadata": {},
   "outputs": [
    {
     "name": "stdout",
     "output_type": "stream",
     "text": [
      "Motivate yourself to stay dedicated and consistent with your goals by showing up and not giving up. Effort is a vigorous and determined attempt to achieve your goals and can teach you that you can do more than you thought. With consistent effort, you will be able to improve yourself and reach success.\n",
      "\n",
      "\n",
      "You did an amazing job today! Don't forget to grab your workout calendar and stretch calendar to stay on track. Put your goals into action and stay accountable to reach the results you want.\n",
      "\n",
      "\n",
      "Motivational message: Taking the effort to prioritize yourself is not selfish, it is full of love for the self. You deserve to be the best in all areas of your life and it is worth putting in the effort to reach your goals. Everyone deserves to show up confident in all areas of their life and do not give up, the best version of yourself is waiting for you.\n",
      "\n",
      "\n",
      "Motivation is a lifelong journey, and it is not a black and white conversation. Even if you take some time off, the important thing is to never give up and never quit on yourself. Keep challenging yourself and set healthy goals that make you happy, and you will be able to make positive changes in your life.\n",
      "\n",
      "\n",
      "Never give up, even in times of difficulty and challenge. Results are earned along the journey, not just at the end goal. Celebrate your achievements, big and small, while pushing yourself to reach your goals.\n",
      "\n",
      "\n"
     ]
    }
   ],
   "source": [
    "for motivation in motivations.head():\n",
    "    print(motivation+'\\n\\n')"
   ]
  },
  {
   "cell_type": "markdown",
   "id": "2c36c1ab-2f61-4831-b57c-a5130e018fd4",
   "metadata": {},
   "source": [
    "* That is ... a lot. What happens if I whittle these down to one sentence each?\n",
    "\n",
    "* I'll add a parameter for the number of sentences. (If I ever clean up this notebook for production code, there will be some serious refactoring.)"
   ]
  },
  {
   "cell_type": "code",
   "execution_count": 52,
   "id": "d49bdde4-4dcd-4592-9b98-5aa0b47c185c",
   "metadata": {},
   "outputs": [],
   "source": [
    "def get_response(text, sentences):\n",
    "    '''\n",
    "    Get response from ChatGPT with length that is the number of sentences\n",
    "    '''\n",
    "    directions = f'extract the motivational message from the following text in {sentences} sentences: '\n",
    "    conditions = 'Ignore sentences that direct viewers to subscribe, like, buy, or comment.'\n",
    "    response = openai.Completion.create(\n",
    "        model='text-davinci-003',\n",
    "        prompt=directions+text+conditions,\n",
    "        temperature=0.7,\n",
    "        max_tokens=100\n",
    "    )\n",
    "    return response"
   ]
  },
  {
   "cell_type": "code",
   "execution_count": 53,
   "id": "ec0820ed-f1d3-4e06-a028-ac4f7f8d19c1",
   "metadata": {},
   "outputs": [],
   "source": [
    "def get_motivation(text, sentences=3, sleep_time=3):\n",
    "    '''\n",
    "    Return the extracted motivation from the text in number of sentences, \n",
    "    pausing for sleep_time seconds after request.\n",
    "    '''\n",
    "    response = get_response(text, sentences)\n",
    "    motivation = extract_text(response)\n",
    "    time.sleep(sleep_time)\n",
    "    return motivation"
   ]
  },
  {
   "cell_type": "markdown",
   "id": "e05a1a7d-730f-44cf-bb03-c6573ed1b0be",
   "metadata": {},
   "source": [
    "* Because I added a parameter, I have to use a lambda function to apply `get_motivation` to the series."
   ]
  },
  {
   "cell_type": "code",
   "execution_count": 54,
   "id": "d3502123-634b-4344-aea5-c0e27ae3e7ef",
   "metadata": {},
   "outputs": [
    {
     "data": {
      "text/plain": [
       "'\\n\\nStay dedicated and consistent with your goals by putting in effort and not giving up, and you will be able to reach success.'"
      ]
     },
     "execution_count": 54,
     "metadata": {},
     "output_type": "execute_result"
    }
   ],
   "source": [
    "shorter_motivations = motivations.apply(lambda m: get_motivation(m, 1))\n",
    "shorter_motivations[0]"
   ]
  },
  {
   "cell_type": "markdown",
   "id": "d24350af-ec61-4b99-a1fa-e7d3cd6ef799",
   "metadata": {},
   "source": [
    "* I see the whitespace issue is showing up again. Will remove..."
   ]
  },
  {
   "cell_type": "code",
   "execution_count": 66,
   "id": "e5df5d2f-c87c-445a-a040-b4a4c0237f7c",
   "metadata": {},
   "outputs": [
    {
     "name": "stdout",
     "output_type": "stream",
     "text": [
      "Stay dedicated and consistent with your goals by putting in effort and not giving up, and you will be able to reach success.\n",
      "\n",
      "Stay focused on your goals and stay accountable to reach the results you want.\n",
      "\n",
      "Prioritizing yourself and putting in the effort to reach your goals is worth it, so don't give up and strive to be the best version of yourself.\n",
      "\n",
      "Keeping your motivation alive is key to making positive changes in life, so never give up and never quit on yourself even if you take some time off.\n",
      "\n",
      "No matter how difficult the challenge, never give up and celebrate your successes along the way to reach your goals.\n",
      "\n"
     ]
    }
   ],
   "source": [
    "shorter_motivations = shorter_motivations.str.strip()\n",
    "for s in shorter_motivations.head():\n",
    "    print(s+'\\n')"
   ]
  },
  {
   "cell_type": "markdown",
   "id": "bf64e90e-7b75-4d34-a205-1cb2232ef688",
   "metadata": {},
   "source": [
    "* This is better! I am reasonably satisfied with these summaries.\n",
    "\n",
    "* One last thing I want to do is summarize the entire month of motivations into one, just to see what happens. Start by combining all of the responses into one, long text."
   ]
  },
  {
   "cell_type": "code",
   "execution_count": 60,
   "id": "a325c234-db7c-4f3d-a6fd-800cdeea1426",
   "metadata": {},
   "outputs": [],
   "source": [
    "all_motivations = ' '.join(shorter_motivations)"
   ]
  },
  {
   "cell_type": "code",
   "execution_count": 61,
   "id": "bf0fbdad-198b-49f7-9001-52415eda8fd7",
   "metadata": {},
   "outputs": [
    {
     "data": {
      "text/plain": [
       "\"Stay dedicated and consistent with your goals by putting in effort and not giving up, and you will be able to reach success. Stay focused on your goals and stay accountable to reach the results you want. Prioritizing yourself and putting in the effort to reach your goals is worth it, so don't give up and strive to be the best version of yourself. Keeping your motivation alive is key to making positive changes in life, so never give up and never quit on yourself even if you take some time off. No matter how difficult the challenge, never give up and celebrate your successes along the way to reach your goals. Motivation is found in making the decision to keep going, even when feeling frustrated or tired, and recognizing that success is largely determined by persevering through failures. Motivational message: Prioritize your goals and dedicate your time to activities that will give you energy and benefit. Motivating yourself by reflecting on your reasons for working out and taking care of your body through proper warm-up, cool-down and recovery is essential to achieving your goals. Give yourself permission to be proud of your efforts and never give up, as hard work and consistency are essential for achieving your goals, and you can also find support from a community if needed. No matter how difficult it may seem, you can make progress by setting a sustainable goal and habit stacking in order to achieve it. Be consistent with your efforts, stay positive, and never give up on yourself to reach success. Make consistent, intentional steps towards your goals and don't be afraid to learn new things to help you get there. Take small steps every day to prioritize your health and wellbeing and you can create positive change in your life. Consistently working towards being your best self will help you reach your purpose and be your brightest and most positive self. Stay committed to your goals and continue to push yourself, even if progress is slow, and celebrate the progress and person you are becoming along the way. Commit to your goals and put in the hard work and dedication, and you will be rewarded with success. Take the time to properly rest and recover, and use the strength and resilience you gain to celebrate your accomplishments and push yourself further. Appreciate your effort and progress, take time to recognize your hard work, and be proud of yourself - these are all key elements to a successful journey. Staying motivated and consistent with effort, taking intentional breaks, and staying connected with others are essential for achieving success and creating a lasting lifestyle.\""
      ]
     },
     "execution_count": 61,
     "metadata": {},
     "output_type": "execute_result"
    }
   ],
   "source": [
    "all_motivations"
   ]
  },
  {
   "cell_type": "markdown",
   "id": "1e088e70-030c-4b55-a565-71c59e94b6a6",
   "metadata": {},
   "source": [
    "* Now use that as the text to prompt ChatGPT3."
   ]
  },
  {
   "cell_type": "code",
   "execution_count": 64,
   "id": "e66a8343-9f2b-4e15-90a9-1d55d7eb5580",
   "metadata": {},
   "outputs": [
    {
     "data": {
      "text/plain": [
       "' \\n\\nMotivational message: Prioritize your goals and dedicate your time to activities that will give you energy and benefit. Motivate yourself by reflecting on your reasons for working out and taking care of your body through proper warm-up, cool-down and recovery. Stay committed to your goals and put in the hard work and dedication, and you will be rewarded with success. Take the time to properly rest and recover, and use the strength and resilience you gain to celebrate your accomplishments'"
      ]
     },
     "execution_count": 64,
     "metadata": {},
     "output_type": "execute_result"
    }
   ],
   "source": [
    "month_motivation = get_motivation(all_motivations, sentences=3)\n",
    "month_motivation"
   ]
  },
  {
   "cell_type": "markdown",
   "id": "e1b5d60c-b915-44db-aae3-6c49508b9480",
   "metadata": {},
   "source": [
    "[Return to top](#Extract-motivational-messages)"
   ]
  },
  {
   "cell_type": "markdown",
   "id": "53842ecc-8c92-459c-a626-d515013597d2",
   "metadata": {
    "jp-MarkdownHeadingCollapsed": true,
    "tags": []
   },
   "source": [
    "### Save the motivational messages\n",
    "\n",
    "* Ok, there we have it. Even though ChatGPT did not *quite* follow directions with this four-sentence summary, its responses reflect the month's theme of Effort.\n",
    "\n",
    "* Even though I don't know quite what to do with these summaries, I'm going to save them for future use."
   ]
  },
  {
   "cell_type": "code",
   "execution_count": 70,
   "id": "4e706bdb-7113-4ec2-80f3-97fcadc0f72b",
   "metadata": {},
   "outputs": [
    {
     "data": {
      "text/html": [
       "<div>\n",
       "<style scoped>\n",
       "    .dataframe tbody tr th:only-of-type {\n",
       "        vertical-align: middle;\n",
       "    }\n",
       "\n",
       "    .dataframe tbody tr th {\n",
       "        vertical-align: top;\n",
       "    }\n",
       "\n",
       "    .dataframe thead th {\n",
       "        text-align: right;\n",
       "    }\n",
       "</style>\n",
       "<table border=\"1\" class=\"dataframe\">\n",
       "  <thead>\n",
       "    <tr style=\"text-align: right;\">\n",
       "      <th></th>\n",
       "      <th>date</th>\n",
       "      <th>vid</th>\n",
       "      <th>summary</th>\n",
       "    </tr>\n",
       "  </thead>\n",
       "  <tbody>\n",
       "    <tr>\n",
       "      <th>0</th>\n",
       "      <td>2023-01-02</td>\n",
       "      <td>qLKflJjWDi4</td>\n",
       "      <td>Stay dedicated and consistent with your goals ...</td>\n",
       "    </tr>\n",
       "    <tr>\n",
       "      <th>1</th>\n",
       "      <td>2023-01-03</td>\n",
       "      <td>NzIylrLhkJ4</td>\n",
       "      <td>Stay focused on your goals and stay accountabl...</td>\n",
       "    </tr>\n",
       "    <tr>\n",
       "      <th>2</th>\n",
       "      <td>2023-01-04</td>\n",
       "      <td>A5kHPgAi3I0</td>\n",
       "      <td>Prioritizing yourself and putting in the effor...</td>\n",
       "    </tr>\n",
       "    <tr>\n",
       "      <th>3</th>\n",
       "      <td>2023-01-06</td>\n",
       "      <td>A67VMX9hlmc</td>\n",
       "      <td>Keeping your motivation alive is key to making...</td>\n",
       "    </tr>\n",
       "    <tr>\n",
       "      <th>4</th>\n",
       "      <td>2023-01-07</td>\n",
       "      <td>lpv4RdNefyU</td>\n",
       "      <td>No matter how difficult the challenge, never g...</td>\n",
       "    </tr>\n",
       "  </tbody>\n",
       "</table>\n",
       "</div>"
      ],
      "text/plain": [
       "        date          vid                                            summary\n",
       "0 2023-01-02  qLKflJjWDi4  Stay dedicated and consistent with your goals ...\n",
       "1 2023-01-03  NzIylrLhkJ4  Stay focused on your goals and stay accountabl...\n",
       "2 2023-01-04  A5kHPgAi3I0  Prioritizing yourself and putting in the effor...\n",
       "3 2023-01-06  A67VMX9hlmc  Keeping your motivation alive is key to making...\n",
       "4 2023-01-07  lpv4RdNefyU  No matter how difficult the challenge, never g..."
      ]
     },
     "execution_count": 70,
     "metadata": {},
     "output_type": "execute_result"
    }
   ],
   "source": [
    "summaries = data[['date','vid']]\n",
    "summaries['summary'] = shorter_motivations\n",
    "summaries.head()"
   ]
  },
  {
   "cell_type": "code",
   "execution_count": 71,
   "id": "c98c3a52-2863-41b6-b03e-ba7d0fe3e4db",
   "metadata": {},
   "outputs": [],
   "source": [
    "summaries.to_csv('../data/2023-01-effort-summaries.csv')"
   ]
  },
  {
   "cell_type": "code",
   "execution_count": 72,
   "id": "f45eda5b-33db-4cfe-aa90-dad7016194b1",
   "metadata": {},
   "outputs": [],
   "source": [
    "with open('../data/2023-01-effort-summary.txt', 'w') as file:\n",
    "    file.write(month_motivation.strip())"
   ]
  },
  {
   "cell_type": "markdown",
   "id": "1ad22ad9-fbd1-4f08-a465-b342decb7a14",
   "metadata": {},
   "source": [
    "[Return to top](#Extract-motivational-messages)"
   ]
  },
  {
   "cell_type": "markdown",
   "id": "aa31f0f3-3ea8-42f4-95d6-d2eecbace319",
   "metadata": {
    "jp-MarkdownHeadingCollapsed": true,
    "tags": []
   },
   "source": [
    "### Next steps\n",
    "\n",
    "* I might transcribe the monthly summary into my workout journal.\n",
    "\n",
    "* I might clean up the code to turn these notebooks into a script that I can run at the end of each month.\n",
    "\n",
    "* I could go back to exploring statistics from Notebook 1 -- gather more data from the channel and create some visualizations.\n",
    "\n",
    "* The YouTube channel metadata included urls for images. I could automate creation of a workout journal that includes pictures, workout descriptions, and motivational talks.\n",
    "\n",
    "* It's also ok if there are no next steps! **I met my goal of getting my head around these new-to-me APIs and testing out the ChatGPT3 technology.**\n"
   ]
  },
  {
   "cell_type": "markdown",
   "id": "9618d2e0-55ae-4922-babb-b0040277d283",
   "metadata": {},
   "source": [
    "[Return to top](#Extract-motivational-messages)"
   ]
  }
 ],
 "metadata": {
  "kernelspec": {
   "display_name": "Python 3 (ipykernel)",
   "language": "python",
   "name": "python3"
  },
  "language_info": {
   "codemirror_mode": {
    "name": "ipython",
    "version": 3
   },
   "file_extension": ".py",
   "mimetype": "text/x-python",
   "name": "python",
   "nbconvert_exporter": "python",
   "pygments_lexer": "ipython3",
   "version": "3.10.8"
  }
 },
 "nbformat": 4,
 "nbformat_minor": 5
}
